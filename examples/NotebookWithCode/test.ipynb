{
 "cells": [
  {
   "cell_type": "code",
   "execution_count": 1,
   "metadata": {
    "tags": [
     "hide"
    ]
   },
   "outputs": [],
   "source": [
    "COUNTER=0"
   ]
  },
  {
   "cell_type": "raw",
   "metadata": {},
   "source": [
    "\n",
    "---\n",
    "title: \"Jupyter notebook custom conversion\"\n",
    "author: [Romain Madar]\n",
    "date: August 2018\n",
    "...\n"
   ]
  },
  {
   "cell_type": "markdown",
   "metadata": {
    "hideCode": true
   },
   "source": [
    "# nbconvert latex test"
   ]
  },
  {
   "cell_type": "markdown",
   "metadata": {},
   "source": [
    "**Lorem ipsum** dolor sit amet, consectetur adipiscing elit. Nunc luctus bibendum felis dictum sodales. Ut suscipit, orci ut interdum imperdiet, purus ligula mollis *justo*, non malesuada nisl augue eget lorem. Donec bibendum, erat sit amet porttitor aliquam, urna lorem ornare libero, in vehicula diam diam ut ante. Nam non urna rhoncus, accumsan elit sit amet, mollis tellus. Vestibulum nec tellus metus. Vestibulum tempor, ligula et vehicula rhoncus, sapien turpis faucibus lorem, id dapibus turpis mauris ac orci. Sed volutpat vestibulum venenatis.\n",
    "\n",
    "This is a test list:\n",
    "\n",
    "1. item 1\n",
    "   - subitem 1\n",
    "   - subitem 2\n",
    "2. item 2\n",
    "3. item 3"
   ]
  },
  {
   "cell_type": "markdown",
   "metadata": {},
   "source": [
    "# Printing using python"
   ]
  },
  {
   "cell_type": "code",
   "execution_count": 2,
   "metadata": {},
   "outputs": [
    {
     "name": "stdout",
     "output_type": "stream",
     "text": [
      "\n",
      "Aenean vitae diam consectetur, tempus arcu quis, ultricies urna. Vivamus venenatis sem \n",
      "quis orci condimentum, sed feugiat dui porta.\n",
      "\n",
      "Aenean vitae diam consectetur, tempus arcu quis, ultricies urna. Vivamus venenatis sem \n",
      "quis orci condimentum, sed feugiat dui porta.\n",
      "\n"
     ]
    }
   ],
   "source": [
    "next_paragraph = \"\"\"\n",
    "Aenean vitae diam consectetur, tempus arcu quis, ultricies urna. Vivamus venenatis sem \n",
    "quis orci condimentum, sed feugiat dui porta.\n",
    "\"\"\"\n",
    "\n",
    "def identity_dec(ob):\n",
    "    return ob\n",
    "\n",
    "@identity_dec\n",
    "def nifty_print(text):\n",
    "    \"\"\"Used to test syntax highlighting\"\"\"\n",
    "    \n",
    "    print(text * 2)\n",
    "\n",
    "nifty_print(next_paragraph)"
   ]
  },
  {
   "cell_type": "markdown",
   "metadata": {},
   "source": [
    "# Pyout (and Text Wrapping)"
   ]
  },
  {
   "cell_type": "code",
   "execution_count": 3,
   "metadata": {},
   "outputs": [
    {
     "data": {
      "text/plain": [
       "'\\nAliquam blandit aliquet enim, eget scelerisque eros adipiscing quis. Nunc sed metus \\nut lorem condimentum condimentum nec id enim. Sed malesuada cursus hendrerit. Praesent \\net commodo justo. Interdum et malesuada fames ac ante ipsum primis in faucibus. \\nCurabitur et magna ante. Proin luctus tellus sit amet egestas laoreet. Sed dapibus \\nneque ac nulla mollis cursus. Fusce mollis egestas libero mattis facilisis.\\n'"
      ]
     },
     "execution_count": 3,
     "metadata": {},
     "output_type": "execute_result"
    }
   ],
   "source": [
    "Text = \"\"\"\n",
    "Aliquam blandit aliquet enim, eget scelerisque eros adipiscing quis. Nunc sed metus \n",
    "ut lorem condimentum condimentum nec id enim. Sed malesuada cursus hendrerit. Praesent \n",
    "et commodo justo. Interdum et malesuada fames ac ante ipsum primis in faucibus. \n",
    "Curabitur et magna ante. Proin luctus tellus sit amet egestas laoreet. Sed dapibus \n",
    "neque ac nulla mollis cursus. Fusce mollis egestas libero mattis facilisis.\n",
    "\"\"\"\n",
    "Text #Use print(Text) instead to get text wrapping in pdf"
   ]
  },
  {
   "cell_type": "code",
   "execution_count": 4,
   "metadata": {},
   "outputs": [
    {
     "name": "stdout",
     "output_type": "stream",
     "text": [
      "\n",
      "Aliquam blandit aliquet enim, eget scelerisque eros adipiscing quis. Nunc sed metus \n",
      "ut lorem condimentum condimentum nec id enim. Sed malesuada cursus hendrerit. Praesent \n",
      "et commodo justo. Interdum et malesuada fames ac ante ipsum primis in faucibus. \n",
      "Curabitur et magna ante. Proin luctus tellus sit amet egestas laoreet. Sed dapibus \n",
      "neque ac nulla mollis cursus. Fusce mollis egestas libero mattis facilisis.\n",
      "\n"
     ]
    }
   ],
   "source": [
    "print(Text)"
   ]
  },
  {
   "cell_type": "code",
   "execution_count": 5,
   "metadata": {},
   "outputs": [
    {
     "name": "stdout",
     "output_type": "stream",
     "text": [
      "[[0.16298113 0.29238972 0.60688675 0.48054093 0.94893011 0.54674309\n",
      "  0.79359372 0.95806852 0.06459257 0.53719962]\n",
      " [0.53510871 0.75301885 0.90595976 0.40742258 0.32468072 0.63071862\n",
      "  0.47513785 0.00246886 0.75382423 0.87461344]\n",
      " [0.32641994 0.23878221 0.61858183 0.40509387 0.05656326 0.38832618\n",
      "  0.30242037 0.60241682 0.39938876 0.44259181]\n",
      " [0.02365565 0.89266651 0.76113028 0.14285784 0.83871933 0.50877496\n",
      "  0.16702902 0.6714255  0.72570507 0.5286317 ]\n",
      " [0.15864989 0.4209803  0.90995404 0.48337292 0.27258449 0.03598368\n",
      "  0.92775021 0.97266405 0.49118032 0.32383071]\n",
      " [0.52825824 0.98466964 0.23750965 0.03561446 0.26444503 0.15874633\n",
      "  0.75189063 0.02797516 0.49040284 0.8126103 ]\n",
      " [0.13081621 0.23197935 0.33303489 0.20345976 0.16445904 0.02365378\n",
      "  0.70158795 0.89111642 0.79903487 0.22216514]\n",
      " [0.97189076 0.20769    0.18102629 0.34333842 0.38574186 0.10887753\n",
      "  0.18182553 0.70195745 0.08618781 0.92448642]\n",
      " [0.69612045 0.56082515 0.47905892 0.51181756 0.09073182 0.35267001\n",
      "  0.49347121 0.29926939 0.97788754 0.91713826]\n",
      " [0.60367851 0.4284466  0.84342832 0.39536524 0.26396413 0.27961796\n",
      "  0.97011029 0.61931104 0.42502391 0.19332462]]\n"
     ]
    },
    {
     "data": {
      "text/plain": [
       "array([[0.16298113, 0.29238972, 0.60688675, 0.48054093, 0.94893011,\n",
       "        0.54674309, 0.79359372, 0.95806852, 0.06459257, 0.53719962],\n",
       "       [0.53510871, 0.75301885, 0.90595976, 0.40742258, 0.32468072,\n",
       "        0.63071862, 0.47513785, 0.00246886, 0.75382423, 0.87461344],\n",
       "       [0.32641994, 0.23878221, 0.61858183, 0.40509387, 0.05656326,\n",
       "        0.38832618, 0.30242037, 0.60241682, 0.39938876, 0.44259181],\n",
       "       [0.02365565, 0.89266651, 0.76113028, 0.14285784, 0.83871933,\n",
       "        0.50877496, 0.16702902, 0.6714255 , 0.72570507, 0.5286317 ],\n",
       "       [0.15864989, 0.4209803 , 0.90995404, 0.48337292, 0.27258449,\n",
       "        0.03598368, 0.92775021, 0.97266405, 0.49118032, 0.32383071],\n",
       "       [0.52825824, 0.98466964, 0.23750965, 0.03561446, 0.26444503,\n",
       "        0.15874633, 0.75189063, 0.02797516, 0.49040284, 0.8126103 ],\n",
       "       [0.13081621, 0.23197935, 0.33303489, 0.20345976, 0.16445904,\n",
       "        0.02365378, 0.70158795, 0.89111642, 0.79903487, 0.22216514],\n",
       "       [0.97189076, 0.20769   , 0.18102629, 0.34333842, 0.38574186,\n",
       "        0.10887753, 0.18182553, 0.70195745, 0.08618781, 0.92448642],\n",
       "       [0.69612045, 0.56082515, 0.47905892, 0.51181756, 0.09073182,\n",
       "        0.35267001, 0.49347121, 0.29926939, 0.97788754, 0.91713826],\n",
       "       [0.60367851, 0.4284466 , 0.84342832, 0.39536524, 0.26396413,\n",
       "        0.27961796, 0.97011029, 0.61931104, 0.42502391, 0.19332462]])"
      ]
     },
     "execution_count": 5,
     "metadata": {},
     "output_type": "execute_result"
    }
   ],
   "source": [
    "import numpy as np\n",
    "\n",
    "a = np.random.rand(10,10)\n",
    "print(a)\n",
    "a"
   ]
  },
  {
   "cell_type": "markdown",
   "metadata": {},
   "source": [
    "# Image and plots"
   ]
  },
  {
   "cell_type": "markdown",
   "metadata": {},
   "source": [
    "## As plain text using markdown\n",
    "\n",
    "Once exported as markdown and converted to latex/pdf with pandoc, the `{width=60%}` will fix the width of the picture and the `My legend` will appear as caption:\n",
    "\n",
    "```markdown\n",
    "![My legend](figures/magnetostatics_field.png){width=50% #figlabel}\n",
    "```\n",
    "\n",
    "gives the result showns in [this figure](#figlabel).\n",
    "\n",
    "\n",
    "![My legend](figures/magnetostatics_field.png){width=50% #figlabel}"
   ]
  },
  {
   "cell_type": "code",
   "execution_count": 105,
   "metadata": {},
   "outputs": [
    {
     "data": {
      "image/png": "[encoded data removed]",
      "text/plain": [
       "<IPython.core.display.Image object>"
      ]
     },
     "execution_count": 105,
     "metadata": {},
     "output_type": "execute_result"
    }
   ],
   "source": [
    "from IPython.core.display import Image\n",
    "Image(data=\"http://ipython.org/_static/IPy_header.png\")"
   ]
  },
  {
   "cell_type": "markdown",
   "metadata": {},
   "source": [
    "## Plots produced by the code {.allowframebreaks}"
   ]
  },
  {
   "cell_type": "code",
   "execution_count": 140,
   "metadata": {
    "caption": "somecaption",
    "label": "fig:somelabel",
    "widefigure": true
   },
   "outputs": [],
   "source": [
    "#%matplotlib inline\n",
    "import matplotlib.pyplot as plt\n",
    "import numpy as np\n",
    "\n",
    "x = np.linspace(-10,10,300)\n",
    "y = np.sin(x)\n",
    "plt.figure(figsize=(4,3),dpi=100)\n",
    "p=plt.plot(x,y)"
   ]
  },
  {
   "cell_type": "code",
   "execution_count": 141,
   "metadata": {
    "scrolled": false
   },
   "outputs": [
    {
     "data": {
      "text/markdown": [
       "---"
      ],
      "text/plain": [
       "<IPython.core.display.Markdown object>"
      ]
     },
     "execution_count": 141,
     "metadata": {},
     "output_type": "execute_result"
    }
   ],
   "source": [
    "%matplotlib notebook\n",
    "plt.ioff()\n",
    "from IPython.display import Markdown\n",
    "\n",
    "def plt2md(figlabel,figcaption,figsize):\n",
    "    global COUNTER\n",
    "    figname = figlabel+'_'+str(COUNTER)+'.png'\n",
    "    plt.tight_layout()\n",
    "    plt.savefig(figname)\n",
    "    plt.savefig(figlabel+'.pdf')\n",
    "    strMD='![{}]({})'.format(figcaption,figname) +\\\n",
    "        '{' + 'width={} #'.format(figsize) + figlabel + '}'\n",
    "    COUNTER+=1\n",
    "    return display(Markdown(strMD))\n",
    "Markdown('---')"
   ]
  },
  {
   "cell_type": "code",
   "execution_count": 142,
   "metadata": {},
   "outputs": [
    {
     "data": {
      "text/markdown": [
       "![This is a test of how to get properplot from Jupyter notebook in MD,to be processed using PANDOC](myplot_97.png){width=100% #myplot}"
      ],
      "text/plain": [
       "<IPython.core.display.Markdown object>"
      ]
     },
     "metadata": {},
     "output_type": "display_data"
    },
    {
     "data": {
      "text/markdown": [
       "---"
      ],
      "text/plain": [
       "<IPython.core.display.Markdown object>"
      ]
     },
     "execution_count": 142,
     "metadata": {},
     "output_type": "execute_result"
    }
   ],
   "source": [
    "plt.figure(figsize=(8,3),dpi=150)\n",
    "plt.plot(x,y)\n",
    "plt.xlabel('$X_{e}$ [SI]')\n",
    "plt.ylabel('$Y_{UPDATE12}$ [SI]')\n",
    "plt2md('myplot','This is a test of how to get proper'+\\\n",
    "       'plot from Jupyter notebook in MD,'+\\\n",
    "       'to be processed using PANDOC','100%')\n",
    "Markdown('---')"
   ]
  },
  {
   "cell_type": "markdown",
   "metadata": {},
   "source": [
    "We can then refer to a given figure using cross-references [like this](#myplot), obtained with:\n",
    "```markdown\n",
    "[like this](#myplot)\n",
    "```"
   ]
  },
  {
   "cell_type": "code",
   "execution_count": 143,
   "metadata": {},
   "outputs": [
    {
     "data": {
      "text/markdown": [
       "![This is another test of how to get properplot from Jupyter notebook in MD,to be processed using PANDOC](myplot2_98.png){width=50% #myplot2}"
      ],
      "text/plain": [
       "<IPython.core.display.Markdown object>"
      ]
     },
     "metadata": {},
     "output_type": "display_data"
    },
    {
     "data": {
      "text/markdown": [
       "---"
      ],
      "text/plain": [
       "<IPython.core.display.Markdown object>"
      ]
     },
     "metadata": {},
     "output_type": "display_data"
    }
   ],
   "source": [
    "plt.figure(figsize=(4,3),dpi=150)\n",
    "plt.plot(np.sqrt(np.abs(x)),y**2)\n",
    "plt.xlabel('$X_{e}$ [SI]')\n",
    "plt.ylabel('$Y_{OTHER}$ [SI]')\n",
    "plt2md('myplot2','This is another test of how to get proper'+\\\n",
    "       'plot from Jupyter notebook in MD,'+\\\n",
    "       'to be processed using PANDOC','50%')\n",
    "\n",
    "display(Markdown('---'))"
   ]
  },
  {
   "cell_type": "code",
   "execution_count": 144,
   "metadata": {
    "scrolled": false
   },
   "outputs": [
    {
     "data": {
      "text/markdown": [
       "![Adding more plot without re-creating a figure: curves cumulates](myplot3_99.png){width=50% #myplot3}"
      ],
      "text/plain": [
       "<IPython.core.display.Markdown object>"
      ]
     },
     "metadata": {},
     "output_type": "display_data"
    },
    {
     "data": {
      "text/markdown": [
       "---"
      ],
      "text/plain": [
       "<IPython.core.display.Markdown object>"
      ]
     },
     "execution_count": 144,
     "metadata": {},
     "output_type": "execute_result"
    }
   ],
   "source": [
    "plt.plot(x**2,y)\n",
    "plt2md('myplot3','Adding more plot without re-creating a figure: curves cumulates','50%')\n",
    "Markdown('---')"
   ]
  },
  {
   "cell_type": "code",
   "execution_count": 145,
   "metadata": {},
   "outputs": [
    {
     "data": {
      "text/markdown": [
       "![More plot with re-creating a figure: only last curve](myplot4_100.png){width=50% #myplot4}"
      ],
      "text/plain": [
       "<IPython.core.display.Markdown object>"
      ]
     },
     "metadata": {},
     "output_type": "display_data"
    },
    {
     "data": {
      "text/markdown": [
       "---"
      ],
      "text/plain": [
       "<IPython.core.display.Markdown object>"
      ]
     },
     "execution_count": 145,
     "metadata": {},
     "output_type": "execute_result"
    }
   ],
   "source": [
    "plt.figure(figsize=(4,3),dpi=150)\n",
    "plt.plot(x**2,y)\n",
    "plt2md('myplot4','More plot with re-creating a figure: only last curve','50%')\n",
    "Markdown('---')"
   ]
  },
  {
   "cell_type": "markdown",
   "metadata": {},
   "source": [
    "# Operator Highlighing Check"
   ]
  },
  {
   "cell_type": "code",
   "execution_count": 111,
   "metadata": {},
   "outputs": [
    {
     "name": "stdout",
     "output_type": "stream",
     "text": [
      "1952904.9236703357\n"
     ]
    },
    {
     "data": {
      "image/png": "[encoded data removed]",
      "text/latex": [
       "$$\\left\\{0, 2, 4, 6, 8\\right\\}$$"
      ],
      "text/plain": [
       "{0, 2, 4, 6, 8}"
      ]
     },
     "execution_count": 111,
     "metadata": {},
     "output_type": "execute_result"
    }
   ],
   "source": [
    "#This is a comment with an operation x @ y in it.\n",
    "test = 5**9 + 2 - x@ y / (7 % 2) + True * 7\n",
    "print(test)\n",
    "\n",
    "a = set([1,2,3,4,5,6,7,8,9,0])\n",
    "b = set([2,4,6,8,0])\n",
    "a & b"
   ]
  },
  {
   "cell_type": "markdown",
   "metadata": {},
   "source": [
    "# Tables"
   ]
  },
  {
   "cell_type": "markdown",
   "metadata": {},
   "source": [
    "## Markdown as plain text"
   ]
  },
  {
   "cell_type": "markdown",
   "metadata": {},
   "source": [
    "First a *markdown* table:\n",
    "\n",
    "Column 1 | Column 2\n",
    "---------|-----------\n",
    " 1       | 3\n",
    "~~a~~    | b\n",
    "        4| & \n",
    "\n",
    "## Pandas as default and Markdown {.allowframebreaks}"
   ]
  },
  {
   "cell_type": "code",
   "execution_count": 130,
   "metadata": {},
   "outputs": [],
   "source": [
    "import pandas as pd\n",
    "df=pd.DataFrame(np.random.randn(10,3))\n",
    "\n",
    "def df2md(df):\n",
    "    from IPython.display import Markdown\n",
    "    from tabulate import tabulate\n",
    "    return display(Markdown( tabulate(df, headers='keys', tablefmt='pipe') ))"
   ]
  },
  {
   "cell_type": "code",
   "execution_count": 131,
   "metadata": {},
   "outputs": [
    {
     "data": {
      "text/html": [
       "<div>\n",
       "<style scoped>\n",
       "    .dataframe tbody tr th:only-of-type {\n",
       "        vertical-align: middle;\n",
       "    }\n",
       "\n",
       "    .dataframe tbody tr th {\n",
       "        vertical-align: top;\n",
       "    }\n",
       "\n",
       "    .dataframe thead th {\n",
       "        text-align: right;\n",
       "    }\n",
       "</style>\n",
       "<table border=\"1\" class=\"dataframe\">\n",
       "  <thead>\n",
       "    <tr style=\"text-align: right;\">\n",
       "      <th></th>\n",
       "      <th>0</th>\n",
       "      <th>1</th>\n",
       "      <th>2</th>\n",
       "    </tr>\n",
       "  </thead>\n",
       "  <tbody>\n",
       "    <tr>\n",
       "      <th>0</th>\n",
       "      <td>1.705797</td>\n",
       "      <td>-0.246615</td>\n",
       "      <td>-0.831035</td>\n",
       "    </tr>\n",
       "    <tr>\n",
       "      <th>1</th>\n",
       "      <td>-0.049958</td>\n",
       "      <td>0.769684</td>\n",
       "      <td>-1.064141</td>\n",
       "    </tr>\n",
       "    <tr>\n",
       "      <th>2</th>\n",
       "      <td>0.533581</td>\n",
       "      <td>0.233747</td>\n",
       "      <td>0.109178</td>\n",
       "    </tr>\n",
       "    <tr>\n",
       "      <th>3</th>\n",
       "      <td>-0.004270</td>\n",
       "      <td>-1.729752</td>\n",
       "      <td>-0.026460</td>\n",
       "    </tr>\n",
       "    <tr>\n",
       "      <th>4</th>\n",
       "      <td>0.256298</td>\n",
       "      <td>0.836856</td>\n",
       "      <td>0.767965</td>\n",
       "    </tr>\n",
       "    <tr>\n",
       "      <th>5</th>\n",
       "      <td>-0.573223</td>\n",
       "      <td>-1.082970</td>\n",
       "      <td>-1.162997</td>\n",
       "    </tr>\n",
       "    <tr>\n",
       "      <th>6</th>\n",
       "      <td>0.313842</td>\n",
       "      <td>0.656127</td>\n",
       "      <td>-0.190213</td>\n",
       "    </tr>\n",
       "    <tr>\n",
       "      <th>7</th>\n",
       "      <td>0.757791</td>\n",
       "      <td>-0.069110</td>\n",
       "      <td>-0.729063</td>\n",
       "    </tr>\n",
       "    <tr>\n",
       "      <th>8</th>\n",
       "      <td>0.705909</td>\n",
       "      <td>-1.114225</td>\n",
       "      <td>-0.083281</td>\n",
       "    </tr>\n",
       "    <tr>\n",
       "      <th>9</th>\n",
       "      <td>-0.843936</td>\n",
       "      <td>-0.561475</td>\n",
       "      <td>-0.675126</td>\n",
       "    </tr>\n",
       "  </tbody>\n",
       "</table>\n",
       "</div>"
      ],
      "text/plain": [
       "          0         1         2\n",
       "0  1.705797 -0.246615 -0.831035\n",
       "1 -0.049958  0.769684 -1.064141\n",
       "2  0.533581  0.233747  0.109178\n",
       "3 -0.004270 -1.729752 -0.026460\n",
       "4  0.256298  0.836856  0.767965\n",
       "5 -0.573223 -1.082970 -1.162997\n",
       "6  0.313842  0.656127 -0.190213\n",
       "7  0.757791 -0.069110 -0.729063\n",
       "8  0.705909 -1.114225 -0.083281\n",
       "9 -0.843936 -0.561475 -0.675126"
      ]
     },
     "execution_count": 131,
     "metadata": {},
     "output_type": "execute_result"
    }
   ],
   "source": [
    "# Default printing is HTML, so it looks good \n",
    "# on the web but it is not well \n",
    "# rendered in pdf via ipynb->MB->pdf (using nbconvert \n",
    "# and pandoc)\n",
    "df"
   ]
  },
  {
   "cell_type": "code",
   "execution_count": 132,
   "metadata": {},
   "outputs": [
    {
     "data": {
      "text/markdown": [
       "|    |           0 |         1 |          2 |\n",
       "|---:|------------:|----------:|-----------:|\n",
       "|  0 |  1.7058     | -0.246615 | -0.831035  |\n",
       "|  1 | -0.0499584  |  0.769684 | -1.06414   |\n",
       "|  2 |  0.533581   |  0.233747 |  0.109178  |\n",
       "|  3 | -0.00426978 | -1.72975  | -0.0264595 |\n",
       "|  4 |  0.256298   |  0.836856 |  0.767965  |\n",
       "|  5 | -0.573223   | -1.08297  | -1.163     |\n",
       "|  6 |  0.313842   |  0.656127 | -0.190213  |\n",
       "|  7 |  0.757791   | -0.06911  | -0.729063  |\n",
       "|  8 |  0.705909   | -1.11422  | -0.0832815 |\n",
       "|  9 | -0.843936   | -0.561475 | -0.675126  |"
      ],
      "text/plain": [
       "<IPython.core.display.Markdown object>"
      ]
     },
     "metadata": {},
     "output_type": "display_data"
    }
   ],
   "source": [
    "# Markdown printing well rendered \n",
    "# in MD using nbconvert\n",
    "df2md(df)"
   ]
  },
  {
   "cell_type": "markdown",
   "metadata": {},
   "source": [
    "# Sympy output"
   ]
  },
  {
   "cell_type": "code",
   "execution_count": 133,
   "metadata": {},
   "outputs": [
    {
     "data": {
      "image/png": "[encoded data removed]",
      "text/latex": [
       "$$\\frac{\\sqrt{\\frac{\\left(2 n + 1\\right) \\Gamma\\left(- m + n + 1\\right)}{\\Gamma\\left(m + n + 1\\right)}} e^{i m \\phi} P_{n}^{\\left(m\\right)}\\left(\\cos{\\left (\\theta \\right )}\\right)}{2 \\sqrt{\\pi}}$$"
      ],
      "text/plain": [
       "    _________________________                                    \n",
       "   ╱ (2⋅n + 1)⋅Γ(-m + n + 1)   ⅈ⋅m⋅φ                             \n",
       "  ╱  ─────────────────────── ⋅ℯ     ⋅assoc_legendre(n, m, cos(θ))\n",
       "╲╱         Γ(m + n + 1)                                          \n",
       "─────────────────────────────────────────────────────────────────\n",
       "                               2⋅√π                              "
      ]
     },
     "execution_count": 133,
     "metadata": {},
     "output_type": "execute_result"
    }
   ],
   "source": [
    "import sympy\n",
    "from sympy.abc import x, n, m\n",
    "sympy.init_printing()\n",
    "theta = sympy.Symbol('theta')\n",
    "phi = sympy.Symbol('phi')\n",
    "\n",
    "sympy.simplify(sympy.Ynm(n,m,theta,phi).expand(func=True))"
   ]
  },
  {
   "cell_type": "markdown",
   "metadata": {},
   "source": [
    "x + y as plain text.\n",
    "\n",
    "$\\frac{P_{n}^{\\left(m\\right)}\\left(\\cos{\\left (\\theta \\right )}\\right)}{2 \\sqrt{\\pi}} \\sqrt{\\frac{\\left(- m + n\\right)!}{\\left(m + n\\right)!} \\left(2 n + 1\\right)} e^{i m \\phi}$"
   ]
  },
  {
   "cell_type": "markdown",
   "metadata": {},
   "source": [
    "# Line Length"
   ]
  },
  {
   "cell_type": "code",
   "execution_count": null,
   "metadata": {
    "scrolled": false
   },
   "outputs": [],
   "source": [
    "1 3 5 7 9 12 15 18 21 24 27 30 33 36 39 42 45 48 51 54 57 60 63 66 69 72 75 78 81 84 87 90 93 96 99 103"
   ]
  }
 ],
 "metadata": {
  "cell_tags": [
   [
    "<None>",
    null
   ]
  ],
  "celltoolbar": "Tags",
  "kernelspec": {
   "display_name": "Python 3",
   "language": "python",
   "name": "python3"
  },
  "language_info": {
   "codemirror_mode": {
    "name": "ipython",
    "version": 3
   },
   "file_extension": ".py",
   "mimetype": "text/x-python",
   "name": "python",
   "nbconvert_exporter": "python",
   "pygments_lexer": "ipython3",
   "version": "3.6.5"
  }
 },
 "nbformat": 4,
 "nbformat_minor": 1
}
