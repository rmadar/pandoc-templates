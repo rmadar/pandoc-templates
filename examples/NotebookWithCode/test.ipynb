{
 "cells": [
  {
   "cell_type": "raw",
   "metadata": {},
   "source": [
    "\n",
    "---\n",
    "title: \"Jupyter notebook custom conversion\"\n",
    "author: [Romain Madar]\n",
    "date: August 2018\n",
    "...\n"
   ]
  },
  {
   "cell_type": "markdown",
   "metadata": {
    "hideCode": true
   },
   "source": [
    "# nbconvert latex test"
   ]
  },
  {
   "cell_type": "markdown",
   "metadata": {},
   "source": [
    "**Lorem ipsum** dolor sit amet, consectetur adipiscing elit. Nunc luctus bibendum felis dictum sodales. Ut suscipit, orci ut interdum imperdiet, purus ligula mollis *justo*, non malesuada nisl augue eget lorem. Donec bibendum, erat sit amet porttitor aliquam, urna lorem ornare libero, in vehicula diam diam ut ante. Nam non urna rhoncus, accumsan elit sit amet, mollis tellus. Vestibulum nec tellus metus. Vestibulum tempor, ligula et vehicula rhoncus, sapien turpis faucibus lorem, id dapibus turpis mauris ac orci. Sed volutpat vestibulum venenatis.\n",
    "\n",
    "This is a test list:\n",
    "\n",
    "1. item 1\n",
    "   - subitem 1\n",
    "   - subitem 2\n",
    "2. item 2\n",
    "3. item 3"
   ]
  },
  {
   "cell_type": "markdown",
   "metadata": {},
   "source": [
    "## Printed Using Python"
   ]
  },
  {
   "cell_type": "code",
   "execution_count": 1,
   "metadata": {},
   "outputs": [
    {
     "name": "stdout",
     "output_type": "stream",
     "text": [
      "\n",
      "Aenean vitae diam consectetur, tempus arcu quis, ultricies urna. Vivamus venenatis sem \n",
      "quis orci condimentum, sed feugiat dui porta.\n",
      "\n",
      "Aenean vitae diam consectetur, tempus arcu quis, ultricies urna. Vivamus venenatis sem \n",
      "quis orci condimentum, sed feugiat dui porta.\n",
      "\n"
     ]
    }
   ],
   "source": [
    "next_paragraph = \"\"\"\n",
    "Aenean vitae diam consectetur, tempus arcu quis, ultricies urna. Vivamus venenatis sem \n",
    "quis orci condimentum, sed feugiat dui porta.\n",
    "\"\"\"\n",
    "\n",
    "def identity_dec(ob):\n",
    "    return ob\n",
    "\n",
    "@identity_dec\n",
    "def nifty_print(text):\n",
    "    \"\"\"Used to test syntax highlighting\"\"\"\n",
    "    \n",
    "    print(text * 2)\n",
    "\n",
    "nifty_print(next_paragraph)"
   ]
  },
  {
   "cell_type": "markdown",
   "metadata": {},
   "source": [
    "## Pyout (and Text Wrapping)"
   ]
  },
  {
   "cell_type": "code",
   "execution_count": 2,
   "metadata": {},
   "outputs": [
    {
     "data": {
      "text/plain": [
       "'\\nAliquam blandit aliquet enim, eget scelerisque eros adipiscing quis. Nunc sed metus \\nut lorem condimentum condimentum nec id enim. Sed malesuada cursus hendrerit. Praesent \\net commodo justo. Interdum et malesuada fames ac ante ipsum primis in faucibus. \\nCurabitur et magna ante. Proin luctus tellus sit amet egestas laoreet. Sed dapibus \\nneque ac nulla mollis cursus. Fusce mollis egestas libero mattis facilisis.\\n'"
      ]
     },
     "execution_count": 2,
     "metadata": {},
     "output_type": "execute_result"
    }
   ],
   "source": [
    "Text = \"\"\"\n",
    "Aliquam blandit aliquet enim, eget scelerisque eros adipiscing quis. Nunc sed metus \n",
    "ut lorem condimentum condimentum nec id enim. Sed malesuada cursus hendrerit. Praesent \n",
    "et commodo justo. Interdum et malesuada fames ac ante ipsum primis in faucibus. \n",
    "Curabitur et magna ante. Proin luctus tellus sit amet egestas laoreet. Sed dapibus \n",
    "neque ac nulla mollis cursus. Fusce mollis egestas libero mattis facilisis.\n",
    "\"\"\"\n",
    "Text #Use print(Text) instead to get text wrapping in pdf"
   ]
  },
  {
   "cell_type": "code",
   "execution_count": 3,
   "metadata": {},
   "outputs": [
    {
     "name": "stdout",
     "output_type": "stream",
     "text": [
      "\n",
      "Aliquam blandit aliquet enim, eget scelerisque eros adipiscing quis. Nunc sed metus \n",
      "ut lorem condimentum condimentum nec id enim. Sed malesuada cursus hendrerit. Praesent \n",
      "et commodo justo. Interdum et malesuada fames ac ante ipsum primis in faucibus. \n",
      "Curabitur et magna ante. Proin luctus tellus sit amet egestas laoreet. Sed dapibus \n",
      "neque ac nulla mollis cursus. Fusce mollis egestas libero mattis facilisis.\n",
      "\n"
     ]
    }
   ],
   "source": [
    "print(Text)"
   ]
  },
  {
   "cell_type": "code",
   "execution_count": 4,
   "metadata": {},
   "outputs": [
    {
     "name": "stdout",
     "output_type": "stream",
     "text": [
      "[[0.81632631 0.89816275 0.12130491 0.4171127  0.81342409 0.97502141\n",
      "  0.98536459 0.98511233 0.68830589 0.58976414]\n",
      " [0.02713838 0.39218547 0.25160237 0.08229395 0.30770868 0.85632565\n",
      "  0.44919185 0.16286998 0.33010748 0.24163147]\n",
      " [0.81929727 0.05795412 0.8925537  0.85529752 0.20782781 0.68019862\n",
      "  0.17732165 0.69354023 0.66100412 0.94989246]\n",
      " [0.74413864 0.57979159 0.61355802 0.52906865 0.56496098 0.27584301\n",
      "  0.78289566 0.56039591 0.44880647 0.58372359]\n",
      " [0.56363311 0.83184182 0.10245143 0.52748516 0.71059322 0.19123904\n",
      "  0.51533385 0.34409446 0.3596236  0.62867894]\n",
      " [0.51052702 0.40212988 0.0693162  0.1101496  0.06689001 0.66558757\n",
      "  0.48448209 0.95160391 0.42766452 0.45951457]\n",
      " [0.90618675 0.4713798  0.04319986 0.58465643 0.42153666 0.84645518\n",
      "  0.60432124 0.33069549 0.26819627 0.127129  ]\n",
      " [0.78395823 0.24334728 0.41075852 0.17349541 0.09710229 0.24446243\n",
      "  0.35735395 0.14182983 0.39341188 0.91346758]\n",
      " [0.14628826 0.26338406 0.92524764 0.73148944 0.88581738 0.47768863\n",
      "  0.27251026 0.19600422 0.97583938 0.50112446]\n",
      " [0.62766423 0.25144896 0.69460853 0.68137878 0.02884555 0.60276952\n",
      "  0.78112115 0.63788289 0.64406786 0.45617689]]\n"
     ]
    },
    {
     "data": {
      "text/plain": [
       "array([[0.81632631, 0.89816275, 0.12130491, 0.4171127 , 0.81342409,\n",
       "        0.97502141, 0.98536459, 0.98511233, 0.68830589, 0.58976414],\n",
       "       [0.02713838, 0.39218547, 0.25160237, 0.08229395, 0.30770868,\n",
       "        0.85632565, 0.44919185, 0.16286998, 0.33010748, 0.24163147],\n",
       "       [0.81929727, 0.05795412, 0.8925537 , 0.85529752, 0.20782781,\n",
       "        0.68019862, 0.17732165, 0.69354023, 0.66100412, 0.94989246],\n",
       "       [0.74413864, 0.57979159, 0.61355802, 0.52906865, 0.56496098,\n",
       "        0.27584301, 0.78289566, 0.56039591, 0.44880647, 0.58372359],\n",
       "       [0.56363311, 0.83184182, 0.10245143, 0.52748516, 0.71059322,\n",
       "        0.19123904, 0.51533385, 0.34409446, 0.3596236 , 0.62867894],\n",
       "       [0.51052702, 0.40212988, 0.0693162 , 0.1101496 , 0.06689001,\n",
       "        0.66558757, 0.48448209, 0.95160391, 0.42766452, 0.45951457],\n",
       "       [0.90618675, 0.4713798 , 0.04319986, 0.58465643, 0.42153666,\n",
       "        0.84645518, 0.60432124, 0.33069549, 0.26819627, 0.127129  ],\n",
       "       [0.78395823, 0.24334728, 0.41075852, 0.17349541, 0.09710229,\n",
       "        0.24446243, 0.35735395, 0.14182983, 0.39341188, 0.91346758],\n",
       "       [0.14628826, 0.26338406, 0.92524764, 0.73148944, 0.88581738,\n",
       "        0.47768863, 0.27251026, 0.19600422, 0.97583938, 0.50112446],\n",
       "       [0.62766423, 0.25144896, 0.69460853, 0.68137878, 0.02884555,\n",
       "        0.60276952, 0.78112115, 0.63788289, 0.64406786, 0.45617689]])"
      ]
     },
     "execution_count": 4,
     "metadata": {},
     "output_type": "execute_result"
    }
   ],
   "source": [
    "import numpy as np\n",
    "\n",
    "a = np.random.rand(10,10)\n",
    "print(a)\n",
    "a"
   ]
  },
  {
   "cell_type": "markdown",
   "metadata": {},
   "source": [
    "### Image"
   ]
  },
  {
   "cell_type": "code",
   "execution_count": 5,
   "metadata": {},
   "outputs": [
    {
     "data": {
      "image/png": "[encoded data removed]",
      "text/plain": [
       "<IPython.core.display.Image object>"
      ]
     },
     "execution_count": 5,
     "metadata": {},
     "output_type": "execute_result"
    }
   ],
   "source": [
    "from IPython.core.display import Image\n",
    "Image(data=\"http://ipython.org/_static/IPy_header.png\")"
   ]
  },
  {
   "cell_type": "code",
   "execution_count": 6,
   "metadata": {},
   "outputs": [
    {
     "name": "stdout",
     "output_type": "stream",
     "text": [
      "text\n"
     ]
    }
   ],
   "source": [
    "print('text')"
   ]
  },
  {
   "cell_type": "code",
   "execution_count": 7,
   "metadata": {},
   "outputs": [],
   "source": [
    "%matplotlib inline\n",
    "import matplotlib.pyplot as plt\n",
    "import numpy as np"
   ]
  },
  {
   "cell_type": "code",
   "execution_count": 12,
   "metadata": {},
   "outputs": [
    {
     "data": {
      "image/png": "[encoded data removed]",
      "text/plain": [
       "<Figure size 432x288 with 1 Axes>"
      ]
     },
     "metadata": {},
     "output_type": "display_data"
    }
   ],
   "source": [
    "x = np.linspace(-10,10,100)\n",
    "y = np.sin(x)\n",
    "plt.plot(x,y)\n",
    "plt.show()"
   ]
  },
  {
   "cell_type": "markdown",
   "metadata": {},
   "source": [
    "### Operator Highlighing Check"
   ]
  },
  {
   "cell_type": "code",
   "execution_count": 13,
   "metadata": {},
   "outputs": [
    {
     "name": "stdout",
     "output_type": "stream",
     "text": [
      "1953062.0590013973\n"
     ]
    },
    {
     "data": {
      "text/plain": [
       "{0, 2, 4, 6, 8}"
      ]
     },
     "execution_count": 13,
     "metadata": {},
     "output_type": "execute_result"
    }
   ],
   "source": [
    "#This is a comment with an operation x @ y in it.\n",
    "test = 5**9 + 2 - x@ y / (7 % 2) + True * 7\n",
    "print(test)\n",
    "\n",
    "a = set([1,2,3,4,5,6,7,8,9,0])\n",
    "b = set([2,4,6,8,0])\n",
    "a & b"
   ]
  },
  {
   "cell_type": "markdown",
   "metadata": {},
   "source": [
    "#### Pandas Output\n",
    "\n",
    "Here we test the output of **Pandas**\n",
    "\n",
    "First a *markdown* table:\n",
    "\n",
    "Column 1 | Column 2\n",
    "---------|-----------\n",
    " 1       | 3\n",
    "~~a~~    | b\n",
    "        4| & \n",
    "\n",
    "#### Pandas"
   ]
  },
  {
   "cell_type": "code",
   "execution_count": 18,
   "metadata": {},
   "outputs": [
    {
     "data": {
      "text/html": [
       "<div>\n",
       "<style scoped>\n",
       "    .dataframe tbody tr th:only-of-type {\n",
       "        vertical-align: middle;\n",
       "    }\n",
       "\n",
       "    .dataframe tbody tr th {\n",
       "        vertical-align: top;\n",
       "    }\n",
       "\n",
       "    .dataframe thead th {\n",
       "        text-align: right;\n",
       "    }\n",
       "</style>\n",
       "<table border=\"1\" class=\"dataframe\">\n",
       "  <thead>\n",
       "    <tr style=\"text-align: right;\">\n",
       "      <th></th>\n",
       "      <th>0</th>\n",
       "      <th>1</th>\n",
       "      <th>2</th>\n",
       "    </tr>\n",
       "  </thead>\n",
       "  <tbody>\n",
       "    <tr>\n",
       "      <th>0</th>\n",
       "      <td>0.297290</td>\n",
       "      <td>1.539159</td>\n",
       "      <td>1.114557</td>\n",
       "    </tr>\n",
       "    <tr>\n",
       "      <th>1</th>\n",
       "      <td>0.415483</td>\n",
       "      <td>-0.302913</td>\n",
       "      <td>-0.031592</td>\n",
       "    </tr>\n",
       "    <tr>\n",
       "      <th>2</th>\n",
       "      <td>-0.048010</td>\n",
       "      <td>-0.943524</td>\n",
       "      <td>-1.210322</td>\n",
       "    </tr>\n",
       "    <tr>\n",
       "      <th>3</th>\n",
       "      <td>0.694196</td>\n",
       "      <td>0.065893</td>\n",
       "      <td>1.569488</td>\n",
       "    </tr>\n",
       "    <tr>\n",
       "      <th>4</th>\n",
       "      <td>0.996257</td>\n",
       "      <td>-0.496768</td>\n",
       "      <td>0.403920</td>\n",
       "    </tr>\n",
       "    <tr>\n",
       "      <th>5</th>\n",
       "      <td>-1.175934</td>\n",
       "      <td>-1.196331</td>\n",
       "      <td>1.638312</td>\n",
       "    </tr>\n",
       "    <tr>\n",
       "      <th>6</th>\n",
       "      <td>1.207399</td>\n",
       "      <td>0.499761</td>\n",
       "      <td>1.664465</td>\n",
       "    </tr>\n",
       "    <tr>\n",
       "      <th>7</th>\n",
       "      <td>-0.974228</td>\n",
       "      <td>0.858901</td>\n",
       "      <td>0.773683</td>\n",
       "    </tr>\n",
       "    <tr>\n",
       "      <th>8</th>\n",
       "      <td>-0.094266</td>\n",
       "      <td>3.127974</td>\n",
       "      <td>-0.958878</td>\n",
       "    </tr>\n",
       "    <tr>\n",
       "      <th>9</th>\n",
       "      <td>1.068012</td>\n",
       "      <td>0.750389</td>\n",
       "      <td>1.840306</td>\n",
       "    </tr>\n",
       "  </tbody>\n",
       "</table>\n",
       "</div>"
      ],
      "text/plain": [
       "          0         1         2\n",
       "0  0.297290  1.539159  1.114557\n",
       "1  0.415483 -0.302913 -0.031592\n",
       "2 -0.048010 -0.943524 -1.210322\n",
       "3  0.694196  0.065893  1.569488\n",
       "4  0.996257 -0.496768  0.403920\n",
       "5 -1.175934 -1.196331  1.638312\n",
       "6  1.207399  0.499761  1.664465\n",
       "7 -0.974228  0.858901  0.773683\n",
       "8 -0.094266  3.127974 -0.958878\n",
       "9  1.068012  0.750389  1.840306"
      ]
     },
     "execution_count": 18,
     "metadata": {},
     "output_type": "execute_result"
    }
   ],
   "source": [
    "import pandas as pd\n",
    "pd.DataFrame(np.random.randn(10,3))"
   ]
  },
  {
   "cell_type": "markdown",
   "metadata": {},
   "source": [
    "##### Sympy output"
   ]
  },
  {
   "cell_type": "code",
   "execution_count": 19,
   "metadata": {},
   "outputs": [
    {
     "data": {
      "image/png": "[encoded data removed]",
      "text/latex": [
       "$$\\frac{\\sqrt{\\frac{\\left(2 n + 1\\right) \\Gamma\\left(- m + n + 1\\right)}{\\Gamma\\left(m + n + 1\\right)}} e^{i m \\phi} P_{n}^{\\left(m\\right)}\\left(\\cos{\\left (\\theta \\right )}\\right)}{2 \\sqrt{\\pi}}$$"
      ],
      "text/plain": [
       "    _________________________                                    \n",
       "   ╱ (2⋅n + 1)⋅Γ(-m + n + 1)   ⅈ⋅m⋅φ                             \n",
       "  ╱  ─────────────────────── ⋅ℯ     ⋅assoc_legendre(n, m, cos(θ))\n",
       "╲╱         Γ(m + n + 1)                                          \n",
       "─────────────────────────────────────────────────────────────────\n",
       "                               2⋅√π                              "
      ]
     },
     "execution_count": 19,
     "metadata": {},
     "output_type": "execute_result"
    }
   ],
   "source": [
    "import sympy\n",
    "from sympy.abc import x, n, m\n",
    "sympy.init_printing()\n",
    "theta = sympy.Symbol('theta')\n",
    "phi = sympy.Symbol('phi')\n",
    "\n",
    "sympy.simplify(sympy.Ynm(n,m,theta,phi).expand(func=True))"
   ]
  },
  {
   "cell_type": "markdown",
   "metadata": {},
   "source": [
    "x + y as plain text.\n",
    "\n",
    "$\\frac{P_{n}^{\\left(m\\right)}\\left(\\cos{\\left (\\theta \\right )}\\right)}{2 \\sqrt{\\pi}} \\sqrt{\\frac{\\left(- m + n\\right)!}{\\left(m + n\\right)!} \\left(2 n + 1\\right)} e^{i m \\phi}$"
   ]
  },
  {
   "cell_type": "markdown",
   "metadata": {},
   "source": [
    "##### Line Length"
   ]
  },
  {
   "cell_type": "code",
   "execution_count": null,
   "metadata": {},
   "outputs": [],
   "source": [
    "1 3 5 7 9 12 15 18 21 24 27 30 33 36 39 42 45 48 51 54 57 60 63 66 69 72 75 78 81 84 87 90 93 96 99 103"
   ]
  },
  {
   "cell_type": "code",
   "execution_count": null,
   "metadata": {},
   "outputs": [],
   "source": []
  }
 ],
 "metadata": {
  "cell_tags": [
   [
    "<None>",
    null
   ]
  ],
  "kernelspec": {
   "display_name": "Python 3",
   "language": "python",
   "name": "python3"
  },
  "language_info": {
   "codemirror_mode": {
    "name": "ipython",
    "version": 3
   },
   "file_extension": ".py",
   "mimetype": "text/x-python",
   "name": "python",
   "nbconvert_exporter": "python",
   "pygments_lexer": "ipython3",
   "version": "3.6.5"
  }
 },
 "nbformat": 4,
 "nbformat_minor": 1
}
