{
 "cells": [
  {
   "cell_type": "code",
   "execution_count": null,
   "metadata": {
    "tags": [
     "hide"
    ]
   },
   "outputs": [],
   "source": [
    "%load_ext autoreload"
   ]
  },
  {
   "cell_type": "code",
   "execution_count": null,
   "metadata": {
    "tags": [
     "hide"
    ]
   },
   "outputs": [],
   "source": [
    "import warnings\n",
    "warnings.filterwarnings(\"ignore\")\n",
    "\n",
    "import sys\n",
    "sys.path.append('../../python_tools')\n",
    "import jupy_pandoc_utils as jpu\n",
    "%autoreload 1\n",
    "%aimport jupy_pandoc_utils\n",
    "\n",
    "import matplotlib        as mpl\n",
    "import matplotlib.pyplot as plt\n",
    "%matplotlib inline\n",
    "mpl.rcParams['savefig.dpi']=150"
   ]
  },
  {
   "cell_type": "raw",
   "metadata": {},
   "source": [
    "\n",
    "---\n",
    "title: \"Jupyter notebook custom conversion\"\n",
    "author: [Romain Madar]\n",
    "date: August 2018\n",
    "...\n"
   ]
  },
  {
   "cell_type": "markdown",
   "metadata": {
    "hideCode": true
   },
   "source": [
    "# nbconvert latex test"
   ]
  },
  {
   "cell_type": "markdown",
   "metadata": {},
   "source": [
    "**Lorem ipsum** dolor sit amet, consectetur adipiscing elit. Nunc luctus bibendum felis dictum sodales. Ut suscipit, orci ut interdum imperdiet, purus ligula mollis *justo*, non malesuada nisl augue eget lorem. Donec bibendum, erat sit amet porttitor aliquam, urna lorem ornare libero, in vehicula diam diam ut ante. Nam non urna rhoncus, accumsan elit sit amet, mollis tellus. Vestibulum nec tellus metus. Vestibulum tempor, ligula et vehicula rhoncus, sapien turpis faucibus lorem, id dapibus turpis mauris ac orci. Sed volutpat vestibulum venenatis.\n",
    "\n",
    "This is a test list:\n",
    "\n",
    "1. item 1\n",
    "   - subitem 1\n",
    "   - subitem 2\n",
    "2. item 2\n",
    "3. item 3"
   ]
  },
  {
   "cell_type": "markdown",
   "metadata": {},
   "source": [
    "# Printing using python"
   ]
  },
  {
   "cell_type": "code",
   "execution_count": null,
   "metadata": {},
   "outputs": [],
   "source": [
    "next_paragraph = \"\"\"\n",
    "Aenean vitae diam consectetur, tempus arcu quis, ultricies urna. Vivamus venenatis sem \n",
    "quis orci condimentum, sed feugiat dui porta.\n",
    "\"\"\"\n",
    "\n",
    "def identity_dec(ob):\n",
    "    return ob\n",
    "\n",
    "@identity_dec\n",
    "def nifty_print(text):\n",
    "    \"\"\"Used to test syntax highlighting\"\"\"\n",
    "    \n",
    "    print(text * 2)\n",
    "\n",
    "nifty_print(next_paragraph)"
   ]
  },
  {
   "cell_type": "markdown",
   "metadata": {},
   "source": [
    "# Pyout (and Text Wrapping)"
   ]
  },
  {
   "cell_type": "code",
   "execution_count": null,
   "metadata": {},
   "outputs": [],
   "source": [
    "Text = \"\"\"\n",
    "Aliquam blandit aliquet enim, eget scelerisque eros adipiscing quis. Nunc sed metus \n",
    "ut lorem condimentum condimentum nec id enim. Sed malesuada cursus hendrerit. Praesent \n",
    "et commodo justo. Interdum et malesuada fames ac ante ipsum primis in faucibus. \n",
    "Curabitur et magna ante. Proin luctus tellus sit amet egestas laoreet. Sed dapibus \n",
    "neque ac nulla mollis cursus. Fusce mollis egestas libero mattis facilisis.\n",
    "\"\"\"\n",
    "Text #Use print(Text) instead to get text wrapping in pdf"
   ]
  },
  {
   "cell_type": "code",
   "execution_count": null,
   "metadata": {},
   "outputs": [],
   "source": [
    "print(Text)"
   ]
  },
  {
   "cell_type": "code",
   "execution_count": null,
   "metadata": {},
   "outputs": [],
   "source": [
    "import numpy as np\n",
    "\n",
    "a = np.random.rand(10,10)\n",
    "print(a)\n",
    "a"
   ]
  },
  {
   "cell_type": "markdown",
   "metadata": {},
   "source": [
    "# Image and plots"
   ]
  },
  {
   "cell_type": "markdown",
   "metadata": {},
   "source": [
    "## As plain text using markdown\n",
    "\n",
    "Once exported as markdown and converted to latex/pdf with pandoc, the `{width=60%}` will fix the width of the picture and the `My legend` will appear as caption:\n",
    "\n",
    "```markdown\n",
    "![My legend](figures/magnetostatics_field.png){width=50% #figlabel}\n",
    "```\n",
    "\n",
    "gives the result showns in [this figure](#figlabel).\n",
    "\n",
    "\n",
    "![My legend](figures/magnetostatics_field.png){width=50% #figlabel}"
   ]
  },
  {
   "cell_type": "code",
   "execution_count": null,
   "metadata": {},
   "outputs": [],
   "source": [
    "from IPython.core.display import Image\n",
    "Image(data=\"http://ipython.org/_static/IPy_header.png\")"
   ]
  },
  {
   "cell_type": "markdown",
   "metadata": {},
   "source": [
    "## Plots produced by the code {.allowframebreaks}"
   ]
  },
  {
   "cell_type": "code",
   "execution_count": null,
   "metadata": {
    "caption": "somecaption",
    "label": "fig:somelabel",
    "widefigure": true
   },
   "outputs": [],
   "source": [
    "import numpy as np\n",
    "x = np.linspace(-10,10,300)\n",
    "y = np.sin(x)\n",
    "plt.figure(figsize=(4,3),dpi=100)\n",
    "p=plt.plot(x,y)"
   ]
  },
  {
   "cell_type": "code",
   "execution_count": null,
   "metadata": {
    "scrolled": false
   },
   "outputs": [],
   "source": [
    "import os\n",
    "os.getcwd() "
   ]
  },
  {
   "cell_type": "code",
   "execution_count": null,
   "metadata": {},
   "outputs": [],
   "source": [
    "plt.figure(figsize=(8,3))\n",
    "plt.plot(x,y)\n",
    "plt.xlabel('$X_{e}$ [SI]')\n",
    "plt.ylabel('$Y_{UPDATE12}$ [SI]')\n",
    "plt.tight_layout()\n",
    "jpu.plt2md('myplot','This is a test of how to get proper'+\\\n",
    "       'plot from Jupyter notebook in MD,'+\\\n",
    "       'to be processed using PANDOC','100%')"
   ]
  },
  {
   "cell_type": "markdown",
   "metadata": {},
   "source": [
    "We can then refer to a given figure using cross-references [like this](#myplot), obtained with:\n",
    "```markdown\n",
    "[like this](#myplot)\n",
    "```"
   ]
  },
  {
   "cell_type": "code",
   "execution_count": null,
   "metadata": {},
   "outputs": [],
   "source": [
    "plt.figure(figsize=(3,3))\n",
    "plt.plot(np.sqrt(np.abs(x)),y**2)\n",
    "plt.xlabel('$X_{e}$ [SI]')\n",
    "plt.ylabel('$Y_{OTHER}$ [SI]')\n",
    "plt.tight_layout()\n",
    "jpu.plt2md('myplot2','This is another test of how to get proper'+\\\n",
    "       'plot from Jupyter notebook in MD,'+\\\n",
    "       'to be processed using PANDOC','50%')"
   ]
  },
  {
   "cell_type": "code",
   "execution_count": null,
   "metadata": {
    "scrolled": false
   },
   "outputs": [],
   "source": [
    "plt.figure(figsize=(6,4))\n",
    "plt.plot(x**3,y)\n",
    "plt.plot(x**3,y+1)\n",
    "plt.xlabel('test')\n",
    "plt.ylabel('test2')\n",
    "plt.tight_layout()\n",
    "jpu.plt2md('myplot3','Adding more plot without re-creating a figure: curves cumulates','50%')"
   ]
  },
  {
   "cell_type": "code",
   "execution_count": null,
   "metadata": {
    "scrolled": false
   },
   "outputs": [],
   "source": [
    "plt.figure(figsize=(6,3))\n",
    "plt.plot(x**2,y)\n",
    "plt.xlabel('$X_{\\omega} [Hz]$')\n",
    "plt.ylabel('$Y_{\\\\varphi}$ [$\\hbar$]')\n",
    "plt.title('My beautiul plot')\n",
    "plt.tight_layout()\n",
    "jpu.plt2md('myplot4','More plot with re-creating a figure: only last curve','100%')"
   ]
  },
  {
   "cell_type": "markdown",
   "metadata": {},
   "source": [
    "# Operator Highlighing Check"
   ]
  },
  {
   "cell_type": "code",
   "execution_count": null,
   "metadata": {},
   "outputs": [],
   "source": [
    "#This is a comment with an operation x @ y in it.\n",
    "test = 5**9 + 2 - x @ y / (7 % 2) + True * 7\n",
    "print(test)\n",
    "\n",
    "a = set([1,2,3,4,5,6,7,8,9,0])\n",
    "b = set([2,4,6,8,0])\n",
    "a & b"
   ]
  },
  {
   "cell_type": "markdown",
   "metadata": {},
   "source": [
    "# Tables"
   ]
  },
  {
   "cell_type": "markdown",
   "metadata": {},
   "source": [
    "## Markdown as plain text"
   ]
  },
  {
   "cell_type": "markdown",
   "metadata": {},
   "source": [
    "First a *markdown* [table](#tbl:label1):\n",
    "\n",
    "|Column 1 | Column 2|\n",
    "---------|-----------|\n",
    "| 1       | 3  |\n",
    "|~~a~~    | b  |\n",
    "|        4| &  |\n",
    "Table: my caption {#tbl:label1}"
   ]
  },
  {
   "cell_type": "markdown",
   "metadata": {},
   "source": [
    "## Pandas as default and Markdown {.allowframebreaks}"
   ]
  },
  {
   "cell_type": "code",
   "execution_count": null,
   "metadata": {},
   "outputs": [],
   "source": [
    "import pandas as pd\n",
    "df=pd.DataFrame(np.random.randn(10,3))"
   ]
  },
  {
   "cell_type": "markdown",
   "metadata": {},
   "source": [
    "Default printing is HTML, so it looks good  on the web but it is not well rendered in \n",
    "pdf via ipynb->MB->pdf (using nbconvert and pandoc). A special function `df2md(df)` is included in the `jupy_pandoc_utils` package to write out a markdown format. This allows to set caption and even to refer to the table in the main document [like this](#tbl:label2) (using vanilla pandoc) or cited like table [@Tbl:label2] (using pandoc-crossref filter, but hyperlink doesn't seem to work in HTML though)"
   ]
  },
  {
   "cell_type": "code",
   "execution_count": null,
   "metadata": {},
   "outputs": [],
   "source": [
    "# Good in HTML, but not pure markdown\n",
    "# Impossible to put a caption\n",
    "df.describe()"
   ]
  },
  {
   "cell_type": "code",
   "execution_count": null,
   "metadata": {},
   "outputs": [],
   "source": [
    "# Good in pure MD and possible to put a caption and a label\n",
    "jpu.df2md(df.describe(),'Caption table. {#tbl:label2}')"
   ]
  },
  {
   "cell_type": "markdown",
   "metadata": {},
   "source": [
    "# Sympy output"
   ]
  },
  {
   "cell_type": "code",
   "execution_count": null,
   "metadata": {},
   "outputs": [],
   "source": [
    "import sympy\n",
    "from sympy.abc import x, n, m\n",
    "sympy.init_printing()\n",
    "theta = sympy.Symbol('theta')\n",
    "phi = sympy.Symbol('phi')\n",
    "\n",
    "sympy.simplify(sympy.Ynm(n,m,theta,phi).expand(func=True))"
   ]
  },
  {
   "cell_type": "markdown",
   "metadata": {},
   "source": [
    "x + y as plain text.\n",
    "\n",
    "$\\frac{P_{n}^{\\left(m\\right)}\\left(\\cos{\\left (\\theta \\right )}\\right)}{2 \\sqrt{\\pi}} \\sqrt{\\frac{\\left(- m + n\\right)!}{\\left(m + n\\right)!} \\left(2 n + 1\\right)} e^{i m \\phi}$"
   ]
  },
  {
   "cell_type": "markdown",
   "metadata": {},
   "source": [
    "# Line Length"
   ]
  },
  {
   "cell_type": "code",
   "execution_count": null,
   "metadata": {
    "scrolled": true
   },
   "outputs": [],
   "source": [
    "1 3 5 7 9 12 15 18 21 24 27 30 33 36 39 42 45 48 51 54 57 60 63 66 69 72 75 78 81 84 87 90 93 96 99 103"
   ]
  },
  {
   "cell_type": "code",
   "execution_count": 80,
   "metadata": {
    "tags": [
     "hide"
    ]
   },
   "outputs": [
    {
     "name": "stdout",
     "output_type": "stream",
     "text": [
      "test.md is created\n"
     ]
    }
   ],
   "source": [
    "# This to copy the current notebook\n",
    "# and keep only the main produced plots\n",
    "# and not all the copy made for quick refreshing of the page\n",
    "jpu.clean_notebook('test.ipynb')\n",
    "\n",
    "# This is to replace in the md output png file with pdf file\n",
    "# when it exist (but need to be implemented!)\n",
    "jpu.nb2md('test.ipynb')"
   ]
  },
  {
   "cell_type": "code",
   "execution_count": null,
   "metadata": {},
   "outputs": [],
   "source": []
  }
 ],
 "metadata": {
  "cell_tags": [
   [
    "<None>",
    null
   ]
  ],
  "celltoolbar": "Tags",
  "kernelspec": {
   "display_name": "Python 3",
   "language": "python",
   "name": "python3"
  },
  "language_info": {
   "codemirror_mode": {
    "name": "ipython",
    "version": 3
   },
   "file_extension": ".py",
   "mimetype": "text/x-python",
   "name": "python",
   "nbconvert_exporter": "python",
   "pygments_lexer": "ipython3",
   "version": "3.6.5"
  }
 },
 "nbformat": 4,
 "nbformat_minor": 1
}
