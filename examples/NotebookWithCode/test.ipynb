{
 "cells": [
  {
   "cell_type": "code",
   "execution_count": 1,
   "metadata": {
    "tags": [
     "hide"
    ]
   },
   "outputs": [],
   "source": [
    "%load_ext autoreload"
   ]
  },
  {
   "cell_type": "code",
   "execution_count": 2,
   "metadata": {
    "tags": [
     "hide"
    ]
   },
   "outputs": [],
   "source": [
    "import warnings\n",
    "warnings.filterwarnings(\"ignore\")\n",
    "\n",
    "import sys\n",
    "sys.path.append('../../python_tools')\n",
    "import jupy_pandoc_utils as jpu\n",
    "%autoreload 1\n",
    "%aimport jupy_pandoc_utils\n",
    "\n",
    "import matplotlib        as mpl\n",
    "import matplotlib.pyplot as plt\n",
    "%matplotlib inline\n",
    "mpl.rcParams['savefig.dpi']=150"
   ]
  },
  {
   "cell_type": "raw",
   "metadata": {},
   "source": [
    "\n",
    "---\n",
    "title: \"Jupyter notebook custom conversion\"\n",
    "author: [Romain Madar]\n",
    "date: August 2018\n",
    "...\n"
   ]
  },
  {
   "cell_type": "markdown",
   "metadata": {
    "hideCode": true
   },
   "source": [
    "# nbconvert latex test"
   ]
  },
  {
   "cell_type": "markdown",
   "metadata": {},
   "source": [
    "**Lorem ipsum** dolor sit amet, consectetur adipiscing elit. Nunc luctus bibendum felis dictum sodales. Ut suscipit, orci ut interdum imperdiet, purus ligula mollis *justo*, non malesuada nisl augue eget lorem. Donec bibendum, erat sit amet porttitor aliquam, urna lorem ornare libero, in vehicula diam diam ut ante. Nam non urna rhoncus, accumsan elit sit amet, mollis tellus. Vestibulum nec tellus metus. Vestibulum tempor, ligula et vehicula rhoncus, sapien turpis faucibus lorem, id dapibus turpis mauris ac orci. Sed volutpat vestibulum venenatis.\n",
    "\n",
    "This is a test list:\n",
    "\n",
    "1. item 1\n",
    "   - subitem 1\n",
    "   - subitem 2\n",
    "2. item 2\n",
    "3. item 3"
   ]
  },
  {
   "cell_type": "markdown",
   "metadata": {},
   "source": [
    "# Printing using python"
   ]
  },
  {
   "cell_type": "code",
   "execution_count": 3,
   "metadata": {},
   "outputs": [
    {
     "name": "stdout",
     "output_type": "stream",
     "text": [
      "\n",
      "Aenean vitae diam consectetur, tempus arcu quis, ultricies urna. Vivamus venenatis sem \n",
      "quis orci condimentum, sed feugiat dui porta.\n",
      "\n",
      "Aenean vitae diam consectetur, tempus arcu quis, ultricies urna. Vivamus venenatis sem \n",
      "quis orci condimentum, sed feugiat dui porta.\n",
      "\n"
     ]
    }
   ],
   "source": [
    "next_paragraph = \"\"\"\n",
    "Aenean vitae diam consectetur, tempus arcu quis, ultricies urna. Vivamus venenatis sem \n",
    "quis orci condimentum, sed feugiat dui porta.\n",
    "\"\"\"\n",
    "\n",
    "def identity_dec(ob):\n",
    "    return ob\n",
    "\n",
    "@identity_dec\n",
    "def nifty_print(text):\n",
    "    \"\"\"Used to test syntax highlighting\"\"\"\n",
    "    \n",
    "    print(text * 2)\n",
    "\n",
    "nifty_print(next_paragraph)"
   ]
  },
  {
   "cell_type": "markdown",
   "metadata": {},
   "source": [
    "# Pyout (and Text Wrapping)"
   ]
  },
  {
   "cell_type": "code",
   "execution_count": 4,
   "metadata": {},
   "outputs": [
    {
     "data": {
      "text/plain": [
       "'\\nAliquam blandit aliquet enim, eget scelerisque eros adipiscing quis. Nunc sed metus \\nut lorem condimentum condimentum nec id enim. Sed malesuada cursus hendrerit. Praesent \\net commodo justo. Interdum et malesuada fames ac ante ipsum primis in faucibus. \\nCurabitur et magna ante. Proin luctus tellus sit amet egestas laoreet. Sed dapibus \\nneque ac nulla mollis cursus. Fusce mollis egestas libero mattis facilisis.\\n'"
      ]
     },
     "execution_count": 4,
     "metadata": {},
     "output_type": "execute_result"
    }
   ],
   "source": [
    "Text = \"\"\"\n",
    "Aliquam blandit aliquet enim, eget scelerisque eros adipiscing quis. Nunc sed metus \n",
    "ut lorem condimentum condimentum nec id enim. Sed malesuada cursus hendrerit. Praesent \n",
    "et commodo justo. Interdum et malesuada fames ac ante ipsum primis in faucibus. \n",
    "Curabitur et magna ante. Proin luctus tellus sit amet egestas laoreet. Sed dapibus \n",
    "neque ac nulla mollis cursus. Fusce mollis egestas libero mattis facilisis.\n",
    "\"\"\"\n",
    "Text #Use print(Text) instead to get text wrapping in pdf"
   ]
  },
  {
   "cell_type": "code",
   "execution_count": 5,
   "metadata": {},
   "outputs": [
    {
     "name": "stdout",
     "output_type": "stream",
     "text": [
      "\n",
      "Aliquam blandit aliquet enim, eget scelerisque eros adipiscing quis. Nunc sed metus \n",
      "ut lorem condimentum condimentum nec id enim. Sed malesuada cursus hendrerit. Praesent \n",
      "et commodo justo. Interdum et malesuada fames ac ante ipsum primis in faucibus. \n",
      "Curabitur et magna ante. Proin luctus tellus sit amet egestas laoreet. Sed dapibus \n",
      "neque ac nulla mollis cursus. Fusce mollis egestas libero mattis facilisis.\n",
      "\n"
     ]
    }
   ],
   "source": [
    "print(Text)"
   ]
  },
  {
   "cell_type": "code",
   "execution_count": 6,
   "metadata": {},
   "outputs": [
    {
     "name": "stdout",
     "output_type": "stream",
     "text": [
      "[[0.33520813 0.83802892 0.30638378 0.38113603 0.98836274 0.3172446\n",
      "  0.2891722  0.85556341 0.43507086 0.30012501]\n",
      " [0.72346239 0.80083619 0.13257636 0.87316642 0.92948006 0.74320405\n",
      "  0.23481632 0.40668767 0.16712725 0.30750508]\n",
      " [0.81563861 0.92361483 0.89628877 0.36067035 0.23212018 0.14908733\n",
      "  0.23711083 0.52257131 0.93443301 0.8026964 ]\n",
      " [0.41528194 0.4899801  0.0821376  0.63104194 0.58999718 0.81522154\n",
      "  0.98169928 0.94962063 0.24518478 0.0083764 ]\n",
      " [0.06521277 0.62424143 0.91099566 0.12911407 0.60840975 0.75929495\n",
      "  0.5812828  0.99665643 0.98838358 0.66526654]\n",
      " [0.49082496 0.84909792 0.4039483  0.0475618  0.66595686 0.08073393\n",
      "  0.59890437 0.13690958 0.07661237 0.37912384]\n",
      " [0.57472945 0.62644709 0.23593095 0.62563431 0.63357978 0.66468539\n",
      "  0.32824805 0.92691036 0.77163918 0.58447959]\n",
      " [0.82486247 0.17073715 0.08648208 0.42765726 0.82815182 0.91285879\n",
      "  0.32822903 0.81787713 0.89914425 0.07885086]\n",
      " [0.81687734 0.08903654 0.41934369 0.84451728 0.09955357 0.87224393\n",
      "  0.50029571 0.07638133 0.09624543 0.10568888]\n",
      " [0.4685684  0.18253565 0.35690757 0.16782686 0.92045263 0.79418766\n",
      "  0.74816995 0.82878518 0.1036162  0.99467706]]\n"
     ]
    },
    {
     "data": {
      "text/plain": [
       "array([[0.33520813, 0.83802892, 0.30638378, 0.38113603, 0.98836274,\n",
       "        0.3172446 , 0.2891722 , 0.85556341, 0.43507086, 0.30012501],\n",
       "       [0.72346239, 0.80083619, 0.13257636, 0.87316642, 0.92948006,\n",
       "        0.74320405, 0.23481632, 0.40668767, 0.16712725, 0.30750508],\n",
       "       [0.81563861, 0.92361483, 0.89628877, 0.36067035, 0.23212018,\n",
       "        0.14908733, 0.23711083, 0.52257131, 0.93443301, 0.8026964 ],\n",
       "       [0.41528194, 0.4899801 , 0.0821376 , 0.63104194, 0.58999718,\n",
       "        0.81522154, 0.98169928, 0.94962063, 0.24518478, 0.0083764 ],\n",
       "       [0.06521277, 0.62424143, 0.91099566, 0.12911407, 0.60840975,\n",
       "        0.75929495, 0.5812828 , 0.99665643, 0.98838358, 0.66526654],\n",
       "       [0.49082496, 0.84909792, 0.4039483 , 0.0475618 , 0.66595686,\n",
       "        0.08073393, 0.59890437, 0.13690958, 0.07661237, 0.37912384],\n",
       "       [0.57472945, 0.62644709, 0.23593095, 0.62563431, 0.63357978,\n",
       "        0.66468539, 0.32824805, 0.92691036, 0.77163918, 0.58447959],\n",
       "       [0.82486247, 0.17073715, 0.08648208, 0.42765726, 0.82815182,\n",
       "        0.91285879, 0.32822903, 0.81787713, 0.89914425, 0.07885086],\n",
       "       [0.81687734, 0.08903654, 0.41934369, 0.84451728, 0.09955357,\n",
       "        0.87224393, 0.50029571, 0.07638133, 0.09624543, 0.10568888],\n",
       "       [0.4685684 , 0.18253565, 0.35690757, 0.16782686, 0.92045263,\n",
       "        0.79418766, 0.74816995, 0.82878518, 0.1036162 , 0.99467706]])"
      ]
     },
     "execution_count": 6,
     "metadata": {},
     "output_type": "execute_result"
    }
   ],
   "source": [
    "import numpy as np\n",
    "\n",
    "a = np.random.rand(10,10)\n",
    "print(a)\n",
    "a"
   ]
  },
  {
   "cell_type": "markdown",
   "metadata": {},
   "source": [
    "# Image and plots"
   ]
  },
  {
   "cell_type": "markdown",
   "metadata": {},
   "source": [
    "## As plain text using markdown\n",
    "\n",
    "Once exported as markdown and converted to latex/pdf with pandoc, the `{width=60%}` will fix the width of the picture and the `My legend` will appear as caption:\n",
    "\n",
    "```markdown\n",
    "![My legend](figures/magnetostatics_field.png){width=50% #figlabel}\n",
    "```\n",
    "\n",
    "gives the result showns in [this figure](#figlabel).\n",
    "\n",
    "\n",
    "![My legend](figures/magnetostatics_field.png){width=50% #figlabel}"
   ]
  },
  {
   "cell_type": "code",
   "execution_count": 7,
   "metadata": {},
   "outputs": [
    {
     "data": {
      "image/png": "[encoded data removed]",
      "text/plain": [
       "<IPython.core.display.Image object>"
      ]
     },
     "execution_count": 7,
     "metadata": {},
     "output_type": "execute_result"
    }
   ],
   "source": [
    "from IPython.core.display import Image\n",
    "Image(data=\"http://ipython.org/_static/IPy_header.png\")"
   ]
  },
  {
   "cell_type": "markdown",
   "metadata": {},
   "source": [
    "## Plots produced by the code {.allowframebreaks}"
   ]
  },
  {
   "cell_type": "code",
   "execution_count": 8,
   "metadata": {
    "caption": "somecaption",
    "label": "fig:somelabel",
    "widefigure": true
   },
   "outputs": [
    {
     "data": {
      "image/png": "[encoded data removed]",
      "text/plain": [
       "<Figure size 400x300 with 1 Axes>"
      ]
     },
     "metadata": {},
     "output_type": "display_data"
    }
   ],
   "source": [
    "import numpy as np\n",
    "x = np.linspace(-10,10,300)\n",
    "y = np.sin(x)\n",
    "plt.figure(figsize=(4,3),dpi=100)\n",
    "p=plt.plot(x,y)"
   ]
  },
  {
   "cell_type": "code",
   "execution_count": 9,
   "metadata": {
    "scrolled": false
   },
   "outputs": [
    {
     "data": {
      "text/plain": [
       "'/mnt/WorkRomain/pandoc-utils/examples/NotebookWithCode'"
      ]
     },
     "execution_count": 9,
     "metadata": {},
     "output_type": "execute_result"
    }
   ],
   "source": [
    "import os\n",
    "os.getcwd() "
   ]
  },
  {
   "cell_type": "code",
   "execution_count": 10,
   "metadata": {},
   "outputs": [
    {
     "data": {
      "text/markdown": [
       "![This is a test of how to get properplot from Jupyter notebook in MD,to be processed using PANDOC](myplot.png){width=100% #myplot}"
      ],
      "text/plain": [
       "<IPython.core.display.Markdown object>"
      ]
     },
     "metadata": {},
     "output_type": "display_data"
    }
   ],
   "source": [
    "plt.figure(figsize=(8,3))\n",
    "plt.plot(x,y)\n",
    "plt.xlabel('$X_{e}$ [SI]')\n",
    "plt.ylabel('$Y_{UPDATE12}$ [SI]')\n",
    "plt.tight_layout()\n",
    "jpu.plt2md('myplot','This is a test of how to get proper'+\\\n",
    "       'plot from Jupyter notebook in MD,'+\\\n",
    "       'to be processed using PANDOC','100%')"
   ]
  },
  {
   "cell_type": "markdown",
   "metadata": {},
   "source": [
    "We can then refer to a given figure using cross-references [like this](#myplot), obtained with:\n",
    "```markdown\n",
    "[like this](#myplot)\n",
    "```"
   ]
  },
  {
   "cell_type": "code",
   "execution_count": 11,
   "metadata": {},
   "outputs": [
    {
     "data": {
      "text/markdown": [
       "![This is another test of how to get properplot from Jupyter notebook in MD,to be processed using PANDOC](myplot2.png){width=50% #myplot2}"
      ],
      "text/plain": [
       "<IPython.core.display.Markdown object>"
      ]
     },
     "metadata": {},
     "output_type": "display_data"
    }
   ],
   "source": [
    "plt.figure(figsize=(3,3))\n",
    "plt.plot(np.sqrt(np.abs(x)),y**2)\n",
    "plt.xlabel('$X_{e}$ [SI]')\n",
    "plt.ylabel('$Y_{OTHER}$ [SI]')\n",
    "plt.tight_layout()\n",
    "jpu.plt2md('myplot2','This is another test of how to get proper'+\\\n",
    "       'plot from Jupyter notebook in MD,'+\\\n",
    "       'to be processed using PANDOC','50%')"
   ]
  },
  {
   "cell_type": "code",
   "execution_count": 12,
   "metadata": {
    "scrolled": false
   },
   "outputs": [
    {
     "data": {
      "text/markdown": [
       "![Adding more plot without re-creating a figure: curves cumulates](myplot3.png){width=50% #myplot3}"
      ],
      "text/plain": [
       "<IPython.core.display.Markdown object>"
      ]
     },
     "metadata": {},
     "output_type": "display_data"
    }
   ],
   "source": [
    "plt.figure(figsize=(6,4))\n",
    "plt.plot(x**3,y)\n",
    "plt.plot(x**3,y+1)\n",
    "plt.xlabel('test')\n",
    "plt.ylabel('test2')\n",
    "plt.tight_layout()\n",
    "jpu.plt2md('myplot3','Adding more plot without re-creating a figure: curves cumulates','50%')"
   ]
  },
  {
   "cell_type": "code",
   "execution_count": 13,
   "metadata": {
    "scrolled": false
   },
   "outputs": [
    {
     "data": {
      "text/markdown": [
       "![More plot with re-creating a figure: only last curve](myplot4.png){width=100% #myplot4}"
      ],
      "text/plain": [
       "<IPython.core.display.Markdown object>"
      ]
     },
     "metadata": {},
     "output_type": "display_data"
    }
   ],
   "source": [
    "plt.figure(figsize=(6,3))\n",
    "plt.plot(x**2,y)\n",
    "plt.xlabel('$X_{\\omega} [Hz]$')\n",
    "plt.ylabel('$Y_{\\\\varphi}$ [$\\hbar$]')\n",
    "plt.title('My beautiul plot')\n",
    "plt.tight_layout()\n",
    "jpu.plt2md('myplot4','More plot with re-creating a figure: only last curve','100%')"
   ]
  },
  {
   "cell_type": "markdown",
   "metadata": {},
   "source": [
    "# Operator Highlighing Check"
   ]
  },
  {
   "cell_type": "code",
   "execution_count": 14,
   "metadata": {},
   "outputs": [
    {
     "name": "stdout",
     "output_type": "stream",
     "text": [
      "1952904.9236703357\n"
     ]
    },
    {
     "data": {
      "text/plain": [
       "{0, 2, 4, 6, 8}"
      ]
     },
     "execution_count": 14,
     "metadata": {},
     "output_type": "execute_result"
    }
   ],
   "source": [
    "#This is a comment with an operation x @ y in it.\n",
    "test = 5**9 + 2 - x @ y / (7 % 2) + True * 7\n",
    "print(test)\n",
    "\n",
    "a = set([1,2,3,4,5,6,7,8,9,0])\n",
    "b = set([2,4,6,8,0])\n",
    "a & b"
   ]
  },
  {
   "cell_type": "markdown",
   "metadata": {},
   "source": [
    "# Tables"
   ]
  },
  {
   "cell_type": "markdown",
   "metadata": {},
   "source": [
    "## Markdown as plain text"
   ]
  },
  {
   "cell_type": "markdown",
   "metadata": {},
   "source": [
    "First a *markdown* [table](#tbl:label1):\n",
    "\n",
    "|Column 1 | Column 2|\n",
    "---------|-----------|\n",
    "| 1       | 3  |\n",
    "|~~a~~    | b  |\n",
    "|        4| &  |\n",
    "Table: my caption {#tbl:label1}"
   ]
  },
  {
   "cell_type": "markdown",
   "metadata": {},
   "source": [
    "## Pandas as default and Markdown {.allowframebreaks}"
   ]
  },
  {
   "cell_type": "code",
   "execution_count": 15,
   "metadata": {},
   "outputs": [],
   "source": [
    "import pandas as pd\n",
    "df=pd.DataFrame(np.random.randn(10,3))"
   ]
  },
  {
   "cell_type": "markdown",
   "metadata": {},
   "source": [
    "Default printing is HTML, so it looks good  on the web but it is not well rendered in \n",
    "pdf via ipynb->MB->pdf (using nbconvert and pandoc). A special function `df2md(df)` is included in the `jupy_pandoc_utils` package to write out a markdown format. This allows to set caption and even to refer to the table in the main document [like this](#tbl:label2) (using vanilla pandoc) or cited like table [@Tbl:label2] (using pandoc-crossref filter, but hyperlink doesn't seem to work in HTML though)"
   ]
  },
  {
   "cell_type": "code",
   "execution_count": 16,
   "metadata": {},
   "outputs": [
    {
     "data": {
      "text/html": [
       "<div>\n",
       "<style scoped>\n",
       "    .dataframe tbody tr th:only-of-type {\n",
       "        vertical-align: middle;\n",
       "    }\n",
       "\n",
       "    .dataframe tbody tr th {\n",
       "        vertical-align: top;\n",
       "    }\n",
       "\n",
       "    .dataframe thead th {\n",
       "        text-align: right;\n",
       "    }\n",
       "</style>\n",
       "<table border=\"1\" class=\"dataframe\">\n",
       "  <thead>\n",
       "    <tr style=\"text-align: right;\">\n",
       "      <th></th>\n",
       "      <th>0</th>\n",
       "      <th>1</th>\n",
       "      <th>2</th>\n",
       "    </tr>\n",
       "  </thead>\n",
       "  <tbody>\n",
       "    <tr>\n",
       "      <th>count</th>\n",
       "      <td>10.000000</td>\n",
       "      <td>10.000000</td>\n",
       "      <td>10.000000</td>\n",
       "    </tr>\n",
       "    <tr>\n",
       "      <th>mean</th>\n",
       "      <td>0.217754</td>\n",
       "      <td>0.045411</td>\n",
       "      <td>-0.249525</td>\n",
       "    </tr>\n",
       "    <tr>\n",
       "      <th>std</th>\n",
       "      <td>0.793298</td>\n",
       "      <td>0.796672</td>\n",
       "      <td>0.611138</td>\n",
       "    </tr>\n",
       "    <tr>\n",
       "      <th>min</th>\n",
       "      <td>-1.614746</td>\n",
       "      <td>-1.356715</td>\n",
       "      <td>-1.066773</td>\n",
       "    </tr>\n",
       "    <tr>\n",
       "      <th>25%</th>\n",
       "      <td>-0.069524</td>\n",
       "      <td>-0.463006</td>\n",
       "      <td>-0.700146</td>\n",
       "    </tr>\n",
       "    <tr>\n",
       "      <th>50%</th>\n",
       "      <td>0.283010</td>\n",
       "      <td>0.082283</td>\n",
       "      <td>-0.181110</td>\n",
       "    </tr>\n",
       "    <tr>\n",
       "      <th>75%</th>\n",
       "      <td>0.831086</td>\n",
       "      <td>0.507939</td>\n",
       "      <td>0.240598</td>\n",
       "    </tr>\n",
       "    <tr>\n",
       "      <th>max</th>\n",
       "      <td>1.029950</td>\n",
       "      <td>1.491542</td>\n",
       "      <td>0.492206</td>\n",
       "    </tr>\n",
       "  </tbody>\n",
       "</table>\n",
       "</div>"
      ],
      "text/plain": [
       "               0          1          2\n",
       "count  10.000000  10.000000  10.000000\n",
       "mean    0.217754   0.045411  -0.249525\n",
       "std     0.793298   0.796672   0.611138\n",
       "min    -1.614746  -1.356715  -1.066773\n",
       "25%    -0.069524  -0.463006  -0.700146\n",
       "50%     0.283010   0.082283  -0.181110\n",
       "75%     0.831086   0.507939   0.240598\n",
       "max     1.029950   1.491542   0.492206"
      ]
     },
     "execution_count": 16,
     "metadata": {},
     "output_type": "execute_result"
    }
   ],
   "source": [
    "# Good in HTML, but not pure markdown\n",
    "# Impossible to put a caption\n",
    "df.describe()"
   ]
  },
  {
   "cell_type": "code",
   "execution_count": 35,
   "metadata": {},
   "outputs": [
    {
     "data": {
      "text/markdown": [
       "| **labels**   |          0 |          1 |         2 |\n",
       "|:-------------|-----------:|-----------:|----------:|\n",
       "| **count**    | 10         | 10         | 10        |\n",
       "| **mean**     |  0.217754  |  0.0454111 | -0.249525 |\n",
       "| **std**      |  0.793298  |  0.796672  |  0.611138 |\n",
       "| **min**      | -1.61475   | -1.35671   | -1.06677  |\n",
       "| **25%**      | -0.0695244 | -0.463006  | -0.700146 |\n",
       "| **50%**      |  0.28301   |  0.0822832 | -0.18111  |\n",
       "| **75%**      |  0.831086  |  0.507939  |  0.240598 |\n",
       "| **max**      |  1.02995   |  1.49154   |  0.492206 |\n",
       "Table: Caption table. {#tbl:label2}"
      ],
      "text/plain": [
       "<IPython.core.display.Markdown object>"
      ]
     },
     "metadata": {},
     "output_type": "display_data"
    }
   ],
   "source": [
    "# Good in pure MD and possible to put a caption and a label\n",
    "jpu.df2md(df.describe(),'Caption table','#tbl:label2')"
   ]
  },
  {
   "cell_type": "markdown",
   "metadata": {},
   "source": [
    "One might want to display table without showing the code which leads to it, especially in a proper documentation. The following block will display the table in the final document but not the line\n",
    "```python\n",
    "jpu.df2md(df.describe(),'Caption table with hidden source code this time. {#tbl:label3}')\n",
    "```\n",
    "which produces it, as shown in [@Tbl:label3]"
   ]
  },
  {
   "cell_type": "code",
   "execution_count": 34,
   "metadata": {
    "tags": [
     "hide_code"
    ]
   },
   "outputs": [
    {
     "data": {
      "text/markdown": [
       "| **labels**   |          0 |          1 |         2 |\n",
       "|:-------------|-----------:|-----------:|----------:|\n",
       "| **count**    | 10         | 10         | 10        |\n",
       "| **mean**     |  0.217754  |  0.0454111 | -0.249525 |\n",
       "| **std**      |  0.793298  |  0.796672  |  0.611138 |\n",
       "| **min**      | -1.61475   | -1.35671   | -1.06677  |\n",
       "| **25%**      | -0.0695244 | -0.463006  | -0.700146 |\n",
       "| **50%**      |  0.28301   |  0.0822832 | -0.18111  |\n",
       "| **75%**      |  0.831086  |  0.507939  |  0.240598 |\n",
       "| **max**      |  1.02995   |  1.49154   |  0.492206 |\n",
       "Table: Caption table with hidden source code this time {#tbl:label3}"
      ],
      "text/plain": [
       "<IPython.core.display.Markdown object>"
      ]
     },
     "metadata": {},
     "output_type": "display_data"
    }
   ],
   "source": [
    "jpu.df2md(df.describe(),'Caption table with hidden source code this time', '#tbl:label3')"
   ]
  },
  {
   "cell_type": "markdown",
   "metadata": {},
   "source": [
    "# Sympy output"
   ]
  },
  {
   "cell_type": "code",
   "execution_count": 32,
   "metadata": {},
   "outputs": [
    {
     "data": {
      "image/png": "[encoded data removed]",
      "text/latex": [
       "$$\\frac{\\sqrt{\\frac{\\left(2 n + 1\\right) \\Gamma\\left(- m + n + 1\\right)}{\\Gamma\\left(m + n + 1\\right)}} e^{i m \\phi} P_{n}^{\\left(m\\right)}\\left(\\cos{\\left (\\theta \\right )}\\right)}{2 \\sqrt{\\pi}}$$"
      ],
      "text/plain": [
       "    _________________________                                    \n",
       "   ╱ (2⋅n + 1)⋅Γ(-m + n + 1)   ⅈ⋅m⋅φ                             \n",
       "  ╱  ─────────────────────── ⋅ℯ     ⋅assoc_legendre(n, m, cos(θ))\n",
       "╲╱         Γ(m + n + 1)                                          \n",
       "─────────────────────────────────────────────────────────────────\n",
       "                               2⋅√π                              "
      ]
     },
     "execution_count": 32,
     "metadata": {},
     "output_type": "execute_result"
    }
   ],
   "source": [
    "import sympy\n",
    "from sympy.abc import x, n, m\n",
    "sympy.init_printing()\n",
    "theta = sympy.Symbol('theta')\n",
    "phi = sympy.Symbol('phi')\n",
    "\n",
    "sympy.simplify(sympy.Ynm(n,m,theta,phi).expand(func=True))"
   ]
  },
  {
   "cell_type": "markdown",
   "metadata": {},
   "source": [
    "x + y as plain text.\n",
    "\n",
    "$\\frac{P_{n}^{\\left(m\\right)}\\left(\\cos{\\left (\\theta \\right )}\\right)}{2 \\sqrt{\\pi}} \\sqrt{\\frac{\\left(- m + n\\right)!}{\\left(m + n\\right)!} \\left(2 n + 1\\right)} e^{i m \\phi}$"
   ]
  },
  {
   "cell_type": "markdown",
   "metadata": {},
   "source": [
    "# Line Length"
   ]
  },
  {
   "cell_type": "code",
   "execution_count": 19,
   "metadata": {
    "scrolled": true,
    "tags": [
     "hide_output"
    ]
   },
   "outputs": [
    {
     "ename": "SyntaxError",
     "evalue": "invalid syntax (<ipython-input-19-d93d7d2148ce>, line 1)",
     "output_type": "error",
     "traceback": [
      "\u001b[0;36m  File \u001b[0;32m\"<ipython-input-19-d93d7d2148ce>\"\u001b[0;36m, line \u001b[0;32m1\u001b[0m\n\u001b[0;31m    1 3 5 7 9 12 15 18 21 24 27 30 33 36 39 42 45 48 51 54 57 60 63 66 69 72 75 78 81 84 87 90 93 96 99 103\u001b[0m\n\u001b[0m      ^\u001b[0m\n\u001b[0;31mSyntaxError\u001b[0m\u001b[0;31m:\u001b[0m invalid syntax\n"
     ]
    }
   ],
   "source": [
    "1 3 5 7 9 12 15 18 21 24 27 30 33 36 39 42 45 48 51 54 57 60 63 66 69 72 75 78 81 84 87 90 93 96 99 103"
   ]
  },
  {
   "cell_type": "code",
   "execution_count": 33,
   "metadata": {
    "tags": [
     "hide"
    ]
   },
   "outputs": [
    {
     "name": "stdout",
     "output_type": "stream",
     "text": [
      "test.md is created\n"
     ]
    }
   ],
   "source": [
    "# This to copy the current notebook\n",
    "# and keep only the main produced plots\n",
    "# and not all the copy made for quick refreshing of the page\n",
    "jpu.clean_notebook('test.ipynb')\n",
    "\n",
    "# This is to replace in the md output png file with pdf file\n",
    "# when it exist (but need to be implemented!)\n",
    "jpu.nb2md('test.ipynb')"
   ]
  },
  {
   "cell_type": "code",
   "execution_count": null,
   "metadata": {},
   "outputs": [],
   "source": []
  }
 ],
 "metadata": {
  "cell_tags": [
   [
    "<None>",
    null
   ]
  ],
  "celltoolbar": "Tags",
  "kernelspec": {
   "display_name": "Python 3",
   "language": "python",
   "name": "python3"
  },
  "language_info": {
   "codemirror_mode": {
    "name": "ipython",
    "version": 3
   },
   "file_extension": ".py",
   "mimetype": "text/x-python",
   "name": "python",
   "nbconvert_exporter": "python",
   "pygments_lexer": "ipython3",
   "version": "3.6.5"
  }
 },
 "nbformat": 4,
 "nbformat_minor": 1
}
