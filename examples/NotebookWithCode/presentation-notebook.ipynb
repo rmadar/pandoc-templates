{
 "cells": [
  {
   "cell_type": "code",
   "execution_count": 7,
   "metadata": {
    "hideCode": false,
    "hidePrompt": false,
    "tags": [
     "hide"
    ]
   },
   "outputs": [],
   "source": [
    "import warnings\n",
    "warnings.filterwarnings(\"ignore\")"
   ]
  },
  {
   "cell_type": "raw",
   "metadata": {
    "hideCode": false
   },
   "source": [
    "\n",
    "---\n",
    "title: \"\\\"New\\\" tools in HEP: my personal experience\"\n",
    "author: [Romain Madar]\n",
    "institution: Laboratoire de Physique de Clermont\n",
    "date: September 2018\n",
    "pandoc-latex-environment:\n",
    "  output_code: [output_code]\n",
    "  input_code: [input_code] \n",
    "...\n"
   ]
  },
  {
   "cell_type": "markdown",
   "metadata": {},
   "source": [
    "# Why did I look to other tools?"
   ]
  },
  {
   "cell_type": "markdown",
   "metadata": {},
   "source": [
    "## Fourier analysis"
   ]
  },
  {
   "cell_type": "markdown",
   "metadata": {},
   "source": [
    "## Principal Analysis Component"
   ]
  },
  {
   "cell_type": "markdown",
   "metadata": {},
   "source": [
    "## Change of air"
   ]
  },
  {
   "cell_type": "markdown",
   "metadata": {},
   "source": [
    "# The tools: python and jupyter notebooks"
   ]
  },
  {
   "cell_type": "markdown",
   "metadata": {},
   "source": [
    "## Quick tour of python tools {.allowframebreaks}\n",
    "\n",
    "**Python offers so (too?) much tools for data analysis** (*non exhaustive* list)\n",
    "\n",
    "<div class=\"notes\">\n",
    "It's true that python is a very dynamic language and offers many tools, in data analysis but not only. In the following part, I'll focus on packages which are relevant for HEP but there are much more to deal with in term of website creation, API for google maps or geographical data.\n",
    "</div>\n",
    "\n",
    "+ data vizualization (interactive) [matplolib](https://matplotlib.org/), [plotpy](https://plot.ly/python/), [seaborn](https://seaborn.pydata.org/), [bokeh](https://bokeh.pydata.org/en/latest/), ...\n",
    "\n",
    "+ scientific, numeric and symbolic calculation [scipy](https://www.scipy.org/), [numpy](http://www.numpy.org/), [simpy](http://www.sympy.org/en/index.html)\n",
    "\n",
    "+ machine learning [scikitlearn](http://scikit-learn.org/stable/), [kerras](https://keras.io/), [tensorflow](https://www.tensorflow.org/), [pytorch](https://pytorch.org/), etc ...\n",
    "\n",
    "+ data manipulation [pandas](https://pandas.pydata.org/)\n",
    "\n",
    "+ **pure HEP**:\n",
    "   \n",
    "    + interfaced with ROOT in several ways [pyROOT](https://root.cern.ch/pyroot), [rootpy](http://www.rootpy.org/), [root_numpy](http://scikit-hep.org/root_numpy/), [uproot](https://github.com/scikit-hep/uproot), [root_pandas](https://github.com/scikit-hep/root_pandas)\n",
    "\n",
    "    + and few more hep-oriented libraries in  [scikit-hep](http://scikit-hep.org/) (starting effort)\n",
    "\n",
    "![Gallery of bokeh with interactive plots, as in [this example](https://bokeh.pydata.org/en/latest/docs/gallery/hexbin.html) or [this one](https://demo.bokehplots.com/apps/movies)](figures/bokeh.png){width=65%}\n",
    "\n",
    "![Screenshot of the [scikit-hep website](http://scikit-hep.org/) showing the affiliated pacakges, on top of the actuall content of scikit-hep ([pyjet](https://github.com/scikit-hep/pyjet), [numpythia](https://github.com/scikit-hep/numpythia)). Inspired by [astropy](http://www.astropy.org/)](figures/scikit-hep.png){width=90%}"
   ]
  },
  {
   "cell_type": "markdown",
   "metadata": {},
   "source": [
    "## NumFocus {.allowframebreaks}\n",
    "\n",
    "According the [NumFOCUS website](https://numfocus.org/):\n",
    "\n",
    "> The mission of NumFOCUS is to promote sustainable high-level programming languages, open code development, and reproducible scientific research. We accomplish this mission through our educational programs and events as well as through fiscal sponsorship of open source scientific computing projects. We aim to increase collaboration and communication within the data science and scientific computing community. \n",
    "\n",
    "Projects cover data vizualization, astrophysics, thermodynamics, fluid mechanics, economy, data analysis, scientific computation, etc ... [@LHCDMreport]\n",
    "\n",
    "![Supported projects](figures/numfocus.png){width=30%} \n",
    "\n",
    "\n",
    "**Example of electromagnetic problem** solved with [FEniCS](https://fenicsproject.org/) (with a 92 lines code)\n",
    "\n",
    "![Supported projects](figures/magnetostatics_geometry.png){width=49%}![Supported projects](figures/magnetostatics_field.png){width=49%} "
   ]
  },
  {
   "cell_type": "markdown",
   "metadata": {},
   "source": [
    "## Quick tour of notebooks {.allowframebreaks}\n",
    "\n",
    "<div class=\"notes\">\n",
    "Jupyter notebook environement allow to combine code, plots and notes in a friendly place.\n",
    "</div>\n",
    "\n",
    "**Jupyter notebooks** (or how to *try to* get back analysis repoductibility?)\n",
    " \n",
    " + a single environment combining source code, plots and notes\n",
    " \n",
    " + great for exploring data or learning new concepts and *document it*\n",
    "\n",
    " + many nice features:\n",
    "    + exportation (html, python, article, slides) -- I'll come back on this\n",
    "    + sharing with [nbviewer](https://nbviewer.jupyter.org/) & online execution with [mybinder](https://mybinder.org/) (beta)\n",
    "    + [SWAN](https://swan.web.cern.ch/) online notebooks service at CERN (connected to CERNbox)\n",
    "\n",
    " + [jupyter project](http://jupyter.org/) have **many** tutorials via [nbviewer](https://nbviewer.jupyter.org/). E.g.:\n",
    "    + [signal processing tutorials](https://nbviewer.jupyter.org/github/unpingco/Python-for-Signal-Processing/tree/master/): about 20 tutorials including filtering, markov chains, maximum likelihood approach, etc ...\n",
    "    + [probabilistic programing](https://nbviewer.jupyter.org/github/CamDavidsonPilon/Probabilistic-Programming-and-Bayesian-Methods-for-Hackers/blob/master/Chapter1_Introduction/Ch1_Introduction_PyMC3.ipynb): 20 pages tutorial with code, plots and explanations.\n",
    "   \n",
    "\n",
    "**Example with Fourier analysis**\n",
    "\n",
    "![](figures/FFT0.png){width=49%}![](figures/FFT1.png){width=49%} \n",
    "\n",
    " + view on [nbviewer](http://nbviewer.jupyter.org/github/rmadar/ExamplesWithPython/blob/master/NotebookExamples/ExampleFFT.ipynb) or [execute on binder](https://mybinder.org/v2/gh/rmadar/ExamplesWithPython/master?filepath=NotebookExamples)\n",
    " + clone via [github](https://github.com/rmadar/ExamplesWithPython/)\n",
    "\n",
    "    \n",
    "**Example with gaussian processes**\n",
    "\n",
    "![](figures/GP1.png){width=49%}![](figures/GP2.png){width=49%} \n",
    "\n",
    "\n",
    " + view on [nbviewer](http://nbviewer.jupyter.org/github/rmadar/ExamplesWithPython/blob/master/NotebookExamples/GaussianProcesses.ipynb) or [execute on binder](https://mybinder.org/v2/gh/rmadar/ExamplesWithPython/master?filepath=NotebookExamples)\n",
    " + clone via [github](https://github.com/rmadar/ExamplesWithPython/)\n",
    " "
   ]
  },
  {
   "cell_type": "markdown",
   "metadata": {},
   "source": [
    "\n",
    "# In practice: what is great and less great?"
   ]
  },
  {
   "cell_type": "markdown",
   "metadata": {},
   "source": [
    "## What's great about python {.allowframebreaks}\n",
    "\n",
    "Python is nice because it's very fast to code!\n",
    "\n",
    "**Example 1: get all possible pairs**"
   ]
  },
  {
   "cell_type": "code",
   "execution_count": 4,
   "metadata": {
    "scrolled": true
   },
   "outputs": [
    {
     "name": "stdout",
     "output_type": "stream",
     "text": [
      "all pairs: [(23, 24), (23, 32), (23, 61), (23, 172), (42, 24), (42, 32), (42, 61), (42, 172), (55, 24), (55, 32), (55, 61), (55, 172), (137, 24), (137, 32), (137, 61), (137, 172)]\n",
      "Every second pair: [(23, 24), (23, 61), (42, 24), (42, 61), (55, 24), (55, 61), (137, 24), (137, 61)]\n"
     ]
    }
   ],
   "source": [
    "import itertools \n",
    "mu_pt,el_pt = [23,42,55,137],[24,32,61,172]\n",
    "\n",
    "# Get all pairs\n",
    "all_pairs = list(itertools.product(mu_pt, el_pt))\n",
    "\n",
    "# Print all pairs\n",
    "print('all pairs: {}'.format(str(all_pairs)))\n",
    "\n",
    "# Print every second pair\n",
    "print('Every second pair: {}'.format(all_pairs[::2]))"
   ]
  },
  {
   "cell_type": "markdown",
   "metadata": {},
   "source": [
    "**Example 2: generate random binnings**"
   ]
  },
  {
   "cell_type": "code",
   "execution_count": 5,
   "metadata": {},
   "outputs": [
    {
     "name": "stdout",
     "output_type": "stream",
     "text": [
      "[  0  20  70 105 170 215 310 335 385 440 480 500]\n",
      "[  0  50  55 105 260 310 335 385 400 460 480 500]\n",
      "[  0  25 185 205 230 245 290 315 355 410 450 500]\n",
      "[  0  60 110 225 240 260 310 435 460 475 500 500]\n",
      "[  0  80 115 115 190 260 315 350 385 450 470 500]\n"
     ]
    }
   ],
   "source": [
    "def generate_bins(n,xmin,xmax,step=1.):\n",
    "    import numpy as np\n",
    "    xmin,xmax=xmin/step,xmax/step\n",
    "    r = np.sort(np.random.random_integers(xmin,xmax,n))*step\n",
    "    r = np.insert(r,0,xmin*step)\n",
    "    r = np.insert(r,len(r),xmax*step)\n",
    "    return r\n",
    "\n",
    "bins = [generate_bins(10,0,500,5) for i in range(0,5)]\n",
    "for b in bins: print(b)"
   ]
  },
  {
   "cell_type": "code",
   "execution_count": 40,
   "metadata": {},
   "outputs": [
    {
     "name": "stdout",
     "output_type": "stream",
     "text": [
      "[test](if this is done in markdown)\n"
     ]
    }
   ],
   "source": [
    "print('[test](if this is done in markdown)')"
   ]
  },
  {
   "cell_type": "markdown",
   "metadata": {},
   "source": [
    "## What's is not so great about python"
   ]
  },
  {
   "cell_type": "markdown",
   "metadata": {},
   "source": [
    "## What is great about notebooks"
   ]
  },
  {
   "cell_type": "markdown",
   "metadata": {},
   "source": [
    "## What is not so great about notebooks"
   ]
  },
  {
   "cell_type": "markdown",
   "metadata": {},
   "source": [
    "# Concrete examples in ATLAS analysis\n"
   ]
  },
  {
   "cell_type": "markdown",
   "metadata": {},
   "source": [
    "# Side discovery: pandocs\n"
   ]
  },
  {
   "cell_type": "markdown",
   "metadata": {},
   "source": [
    "# References"
   ]
  },
  {
   "cell_type": "code",
   "execution_count": null,
   "metadata": {},
   "outputs": [],
   "source": []
  }
 ],
 "metadata": {
  "celltoolbar": "Tags",
  "kernelspec": {
   "display_name": "Python 3",
   "language": "python",
   "name": "python3"
  },
  "language_info": {
   "codemirror_mode": {
    "name": "ipython",
    "version": 3
   },
   "file_extension": ".py",
   "mimetype": "text/x-python",
   "name": "python",
   "nbconvert_exporter": "python",
   "pygments_lexer": "ipython3",
   "version": "3.6.5"
  }
 },
 "nbformat": 4,
 "nbformat_minor": 2
}
