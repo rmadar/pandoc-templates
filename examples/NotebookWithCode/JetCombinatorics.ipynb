{
 "cells": [
  {
   "cell_type": "raw",
   "metadata": {},
   "source": [
    "\n",
    "---\n",
    "title: \"Light and heavy jets combinatorics\"\n",
    "author: [Romain Madar]\n",
    "date: August 2018\n",
    "abstract: \"This note tries to understand how the correction works for the yields of events with a veto on b-tagged jets. In order to do so, we play with basic probabilities assuming a kinematically flat b-tagging efficiency $\\\\epsilon$ and a given number of (b) jets at the truth level. First we start with only truth b-jets to look at exclusive and inclusive probabilities versus $\\\\epsilon$ and the number of reconstruced b-jets. Then, we add light jets at the truth level with the corresponding mis-tag rate $f$.\"\n",
    "...\n"
   ]
  },
  {
   "cell_type": "markdown",
   "metadata": {
    "slideshow": {
     "slide_type": "slide"
    }
   },
   "source": [
    "# Assuming only truth b-jets\n",
    "\n",
    "Some definition to start with:\n",
    "\n",
    "+ $N^{truth}_{b}\\,\\equiv\\,$ number of truth b-jets in the event.\n",
    "+ $N^{reco}_{b}\\,\\equiv\\,$ number of b-tagged jets in the events\n",
    "+ $N_{N^{reco}_{b}} \\,\\equiv\\,$ number of events with $N^{reco}_{b}$ b-tagged jets\n",
    "\n",
    "\n",
    "We can write the number of events with $N^{reco}_{b}$ b-tagged jets knowing the probability $\\mathcal{P}(N^{reco}_{b}|N^{truth}_{b},\\epsilon)$ to tag $N^{reco}_{b}$ b-jets among $N^{truth}_{b}$ truth b-jets assuming a b-tagging effiency of $\\epsilon$:\n",
    "$$\n",
    "N_{N^{reco}_{b}} \\, = \\, \\sum_{Evt} \\, \\mathcal{P}\\,(N^{reco}_{b}|N^{truth}_{b},\\epsilon)\n",
    "$$\n",
    "\n",
    "where\n",
    "\\begin{eqnarray}\n",
    "\\mathcal{P}\\,(N^{reco}_{b}|N^{truth}_{b},\\epsilon) &=& \\binom{N^{truth}_{b}}{N^{reco}_{b}} \\times \\epsilon^{N^{reco}_{b}} \\times (1-\\epsilon)^{N^{truth}_{b}-N^{reco}_{b}}\\\\ \n",
    "                                                   &=& \\frac{N^{truth}_{b}!}{N^{reco}_{b}!(N^{truth}_{b}-N^{reco}_{b})!} \\, \\epsilon^{N^{reco}_{b}} \\times (1-\\epsilon)^{N^{truth}_{b}-N^{reco}_{b}}\\\\\n",
    "\\end{eqnarray}"
   ]
  },
  {
   "cell_type": "code",
   "execution_count": 1,
   "metadata": {
    "scrolled": false,
    "slideshow": {
     "slide_type": "skip"
    },
    "tags": [
     "hide"
    ]
   },
   "outputs": [
    {
     "name": "stdout",
     "output_type": "stream",
     "text": [
      "Welcome to JupyROOT 6.10/02\n"
     ]
    },
    {
     "name": "stderr",
     "output_type": "stream",
     "text": [
      "INFO:rootpy.plotting.style] using matplotlib style 'ATLAS'\n"
     ]
    }
   ],
   "source": [
    "%load_ext autoreload\n",
    "%autoreload 2\n",
    "\n",
    "import warnings\n",
    "warnings.filterwarnings('ignore')\n",
    "\n",
    "import numpy as np\n",
    "from scipy.special import comb \n",
    "\n",
    "import matplotlib as mpl\n",
    "import matplotlib.pyplot as plt\n",
    "%matplotlib inline                                                                                                                                                                           \n",
    "from rootpy.plotting.style import set_style\n",
    "set_style('ATLAS', mpl=True)\n",
    "mpl.rcParams['axes.titlesize']  = 20\n",
    "mpl.rcParams['axes.labelsize']  = 24\n",
    "mpl.rcParams['lines.linewidth'] = 2.5\n",
    "\n",
    "import jupy_pandoc_utils as jpu"
   ]
  },
  {
   "cell_type": "markdown",
   "metadata": {
    "slideshow": {
     "slide_type": "slide"
    }
   },
   "source": [
    "## Exclusive probabilities"
   ]
  },
  {
   "cell_type": "code",
   "execution_count": 2,
   "metadata": {
    "slideshow": {
     "slide_type": "subslide"
    }
   },
   "outputs": [],
   "source": [
    "def P(eff,n_reco,n_truth):\n",
    "    return comb(n_truth,n_reco) * eff**n_reco * (1-eff)**(n_truth-n_reco)"
   ]
  },
  {
   "cell_type": "code",
   "execution_count": 3,
   "metadata": {
    "slideshow": {
     "slide_type": "subslide"
    },
    "tags": [
     "hide_input"
    ]
   },
   "outputs": [
    {
     "data": {
      "text/markdown": [
       "![Probability to reconstruct $N^{\\text{reco}}_{b}$ for $N^{\\text{truth}}_{b}=5$, as function of $b$-tagging efficiency.](fig1__jpu_n0.png){width=70% #fig:exclProba}"
      ],
      "text/plain": [
       "<IPython.core.display.Markdown object>"
      ]
     },
     "metadata": {},
     "output_type": "display_data"
    }
   ],
   "source": [
    "x=np.linspace(0,1,100)\n",
    "nt=5\n",
    "for nr in range(0,6):\n",
    "    plt.plot(x,P(x,nr,nt),label='$(N^{reco}_{b},N^{truth}_{b})='+'({:.0f},{:.0f})$'.format(nr,nt))\n",
    "plt.xlabel('$\\epsilon$')\n",
    "plt.ylabel('$\\mathcal{P}\\,(N^{reco}_{b}\\,|\\,N^{truth}_{b},\\epsilon)$')\n",
    "plt.ylim(0,1.5)\n",
    "plt.legend()\n",
    "jpu.plt2md('fig1','Probability to reconstruct $N^{\\\\text{reco}}_{b}$ for $N^{\\\\text{truth}}_{b}=5$, '+\n",
    "          'as function of $b$-tagging efficiency.','70%','fig:exclProba')"
   ]
  },
  {
   "cell_type": "code",
   "execution_count": 4,
   "metadata": {
    "scrolled": false,
    "tags": [
     "hide_input"
    ]
   },
   "outputs": [
    {
     "data": {
      "text/markdown": [
       "![Probability as fuction of the reconstruced $b$-jets (left), number of b-tagged jets with the maximum probability as function of the efficiency (middle) maximum probability as function of the efficiency (right)](fig2__jpu_n0.png){width=100% #fig:exclProba2}"
      ],
      "text/plain": [
       "<IPython.core.display.Markdown object>"
      ]
     },
     "metadata": {},
     "output_type": "display_data"
    }
   ],
   "source": [
    "Nbtot = 5\n",
    "NbjetsTruth_arr = range(0,Nbtot+1)\n",
    "plt.figure(figsize=(19,6))\n",
    "\n",
    "# Plot probability versus reco Nb\n",
    "plt.subplot(1,3,1)\n",
    "for e in np.linspace(0.5,1.0,6):\n",
    "    plt.plot(NbjetsTruth_arr, [P(e,n,Nbtot) for n in NbjetsTruth_arr],label='$\\epsilon={:.1f}$'.format(e))\n",
    "plt.legend()\n",
    "plt.xlabel('$N^{reco}_{b}$')\n",
    "plt.ylabel('$\\mathcal{P}\\,(N^{reco}_{b}\\,|\\,'+'{}'.format(Nbtot)+',\\epsilon)$')\n",
    "plt.title('Event with {} truth b-jets'.format(Nbtot))\n",
    "\n",
    "# Plot the most likely number of b-tagged jet versus the efficiency\n",
    "plt.subplot(1,3,2)\n",
    "Nb_maxProba=[]\n",
    "effs = np.linspace(0.5,1.0,30)\n",
    "for e in effs:\n",
    "    index_max = np.argmax( [P(e,n,Nbtot) for n in NbjetsTruth_arr] )\n",
    "    Nb_maxProba.append(NbjetsTruth_arr[index_max])\n",
    "\n",
    "plt.plot(effs,Nb_maxProba,'o',label='Exact')\n",
    "plt.plot(effs,Nbtot*effs,label='$\\epsilon \\; x \\; N^{truth}_{b}$')\n",
    "plt.legend()\n",
    "plt.ylabel('$N^{reco}_{b}$ giving $\\mathcal{P}_{max}$')\n",
    "plt.xlabel('$\\epsilon$')\n",
    "plt.title('Event with {} truth b-jets'.format(Nbtot))\n",
    "\n",
    "\n",
    "# Probability to get the most likely number of b-tagged jet versus the efficiency\n",
    "plt.subplot(1,3,3)\n",
    "maxProba=[]\n",
    "for e in effs:\n",
    "    maxProba.append( np.max( [P(e,n,Nbtot) for n in NbjetsTruth_arr] ) )\n",
    "\n",
    "plt.plot(effs,maxProba,'o',label='Exact')\n",
    "plt.plot(effs,effs**Nb_maxProba,label='$\\epsilon^{N^{reco}_{b}} \\; x \\; N^{truth}_{b}$')\n",
    "plt.legend()\n",
    "plt.ylabel('$\\mathcal{P}_{max}$')\n",
    "plt.xlabel('$\\epsilon$')\n",
    "plt.ylim(0,1.2)\n",
    "plt.title('Event with {} truth b-jets'.format(Nbtot))\n",
    "\n",
    "plt.tight_layout()\n",
    "jpu.plt2md('fig2','Probability as fuction of the reconstruced $b$-jets (left), '+\n",
    "           'number of b-tagged jets with the maximum probability as function of the efficiency (middle) '+\n",
    "           'maximum probability as function of the efficiency (right)','100%','fig:exclProba2')"
   ]
  },
  {
   "cell_type": "markdown",
   "metadata": {
    "collapsed": true
   },
   "source": [
    "## Inclusive probabilities"
   ]
  },
  {
   "cell_type": "code",
   "execution_count": 5,
   "metadata": {
    "scrolled": false
   },
   "outputs": [],
   "source": [
    "def InclusiveP(epsilon,nbmin,nj):\n",
    "    return np.sum( [P(epsilon,nb,nj) for nb in range(nbmin,nj+1)] )"
   ]
  },
  {
   "cell_type": "code",
   "execution_count": 6,
   "metadata": {
    "tags": [
     "hide_input"
    ]
   },
   "outputs": [
    {
     "data": {
      "text/markdown": [
       "![Inclusive probability as function of the efficiency (left) and as function of number of jets (right)](fig3__jpu_n0.png){width=100% #fig:InclProbab1}"
      ],
      "text/plain": [
       "<IPython.core.display.Markdown object>"
      ]
     },
     "metadata": {},
     "output_type": "display_data"
    }
   ],
   "source": [
    "Nbtot = 5\n",
    "NbjetsTruth_arr = range(0,Nbtot+1)\n",
    "effs = np.linspace(0.0,1.0,100)\n",
    "plt.figure(figsize=(15,6))\n",
    "\n",
    "# Plot inclusive proba versus efficiency\n",
    "plt.subplot(1,2,1)\n",
    "for Nbmin in NbjetsTruth_arr :\n",
    "    plt.plot(effs,[InclusiveP(e,Nbmin,Nbtot) for e in effs],\\\n",
    "             label='$N^{reco}_{b} \\geq '+'{:.0f}$'.format(Nbmin))\n",
    "plt.ylabel('$\\mathcal{P}\\,(N^{reco}_{b}\\, \\geq \\, X \\, |'+'{}'.format(Nbtot)+',\\epsilon)$')\n",
    "plt.xlabel('$\\epsilon$')\n",
    "plt.title('Event with {} truth b-jets'.format(Nbtot))\n",
    "plt.xlim(0,1.4)\n",
    "plt.legend()\n",
    "\n",
    "# Plot inclusive proba versus Nbreco min\n",
    "plt.subplot(1,2,2)\n",
    "for e in np.linspace(0.5,1.0,10):\n",
    "    plt.plot(NbjetsTruth_arr,[InclusiveP(e,Nbmin,5) for Nbmin in NbjetsTruth_arr], \\\n",
    "             label='$\\epsilon={:.1f}$'.format(e))\n",
    "plt.ylabel('$\\mathcal{P}\\,(N^{reco}_{b}\\, \\geq \\, X \\, |'+'{}'.format(Nbtot)+',\\epsilon)$')\n",
    "plt.xlabel('$X$')\n",
    "plt.title('Event with {} truth b-jets'.format(Nbtot))\n",
    "plt.legend()\n",
    "\n",
    "plt.tight_layout()\n",
    "jpu.plt2md('fig3','Inclusive probability as function of the efficiency (left) and '+\n",
    "          'as function of number of jets (right)','100%','fig:InclProbab1')"
   ]
  },
  {
   "cell_type": "markdown",
   "metadata": {
    "collapsed": true
   },
   "source": [
    "# Assuming both truth b-jets and light jets\n",
    "\n",
    "+ $N^{truth}_{b}\\,\\equiv\\,$ number of truth b-jets in the event.\n",
    "+ $N^{reco}_{b}\\,\\equiv\\,$ number of b-tagged jets in the events\n",
    "+ $N^{truth}_{j}\\,\\equiv\\,$ number of truth light jets in the event.\n",
    "+ $N^{reco}_{j}\\,\\equiv\\,$ number of reconstructed light jets in the events\n",
    "\n",
    "In principle, the interesting probability would be now $\\mathcal{P}\\,(N^{reco}_{b}, N^{reco}_{j}\\,|\\,N^{truth}_{b},N^{truth}_{j},\\epsilon,f\\,)$ where $f$ stands for the mis-tag rate (ie the probability that a light jet is tagged as a b-jet). But since, we assume here a jet reconstruction efficiency of 100% (ie $N^{truth}_{b}+N^{truth}_{j} = N^{reco}_{b}+N^{reco}_{j}$), this reduces to $\\mathcal{P}\\,(N^{reco}_{b}\\,|\\,N^{truth}_{b},N^{truth}_{j},\\epsilon,f\\,)$.\n",
    "\n",
    "\n",
    "There is an easy way to split the problem since we need to consider all configuration where the sum of tagging and mis-tagging gives the wanted number of b-tagged jets:\n",
    "$$\n",
    "\\mathcal{P}\\,(N^{reco}_{b}\\,|\\,N^{truth}_{b},N^{truth}_{j}) \\; = \\; \\sum_{k+\\ell=N^{reco}_{b}} \\: \\mathcal{P}(N^{truth}_{b} \\to k, \\,\\epsilon) \\, \\times \\, \\mathcal{P}(N^{truth}_{j} \\to \\ell, \\,f) \n",
    "$$\n",
    "where $\\mathcal{P}(N^{truth}_{b} \\to k)$ is the probability to tag $k$ reco b-jets (from truth b-jets) and $\\mathcal{P}(N^{truth}_{j} \\to \\ell)$ is the probability to mis-tag $\\ell$ reco b-jets (from truth light jet). These individual probabilities are easy to write:\n",
    "$$\n",
    "\\mathcal{P}(N^{truth}_{b} \\to k, \\, \\epsilon) = \\binom{N^{truth}_{b}}{k} \\times \\epsilon^{k} \\times (1-\\epsilon)^{N^{truth}_{b}-k}\\\\\n",
    "\\mathcal{P}(N^{truth}_{j} \\to \\ell, \\, f) = \\binom{N^{truth}_{j}}{\\ell} \\times f^{\\ell} \\times (1-f)^{N^{truth}_{j}-\\ell}\n",
    "$$"
   ]
  },
  {
   "cell_type": "code",
   "execution_count": 7,
   "metadata": {},
   "outputs": [],
   "source": [
    "def proba_light_to_heavy(nbr,njtruth,f):\n",
    "    '''\n",
    "    Return the proba to have nbr mis-tagged jets \n",
    "    and njtruth-nbr light jets from njtruh truth light jets\n",
    "    '''\n",
    "    if (nbr>njtruth): return 0.0\n",
    "    return comb(njtruth,nbr) * f**nbr * (1-f)**(njtruth-nbr)\n",
    "\n",
    "def proba_heavy_to_heavy(nbr,nbtruth,e):\n",
    "    '''\n",
    "    Return the proba to have nbr tagged jets and njtruth-nbr \n",
    "    not tagged jets from nbtruh truth b-jets\n",
    "    '''\n",
    "    if(nbr>nbtruth): return 0.0\n",
    "    return comb(nbtruth,nbr) * e**nbr * (1-e)**(nbtruth-nbr)\n",
    "\n",
    "def ProbaFull(nbr,nbt,njt,e,f):\n",
    "    '''\n",
    "    Return the probability to have \\'nbr\\' b-tagged jets in a \n",
    "    event with \\'nbt\\' truth b-jets and \\'njt\\' truth light jets.\n",
    "    '''\n",
    "    kl = [[nbr-i,i] for i in range(0,nbr+1)]\n",
    "    each_proba = [ \n",
    "                    proba_heavy_to_heavy(k,nbt,e)*\\\n",
    "                    proba_light_to_heavy(l,njt,f) \n",
    "                    for [k,l] in kl\n",
    "                 ]\n",
    "    return np.sum(each_proba)"
   ]
  },
  {
   "cell_type": "code",
   "execution_count": 8,
   "metadata": {
    "tags": [
     "hide"
    ]
   },
   "outputs": [
    {
     "data": {
      "text/plain": [
       "[<matplotlib.lines.Line2D at 0x7faef1afd150>]"
      ]
     },
     "execution_count": 8,
     "metadata": {},
     "output_type": "execute_result"
    },
    {
     "data": {
      "image/png": "[encoded data removed]",
      "text/plain": [
       "<matplotlib.figure.Figure at 0x7faf16614d50>"
      ]
     },
     "metadata": {},
     "output_type": "display_data"
    }
   ],
   "source": [
    "# Sanity check, ie sum of proba=1 whatever fake or epsilon values\n",
    "njt=5; nbt=5\n",
    "effs    = np.linspace(0.0,1.0,100)\n",
    "proba_e = [ np.sum([ProbaFull(nbr,nbt,njt,e,0.2) for nbr in range(0,njt+nbt+1)]) for e in effs]\n",
    "proba_f = [ np.sum([ProbaFull(nbr,nbt,njt,0.8,f) for nbr in range(0,njt+nbt+1)]) for f in effs]\n",
    "\n",
    "plt.ylim(0.9,1.1)\n",
    "plt.plot(effs, proba_e )\n",
    "plt.plot(effs, proba_f, '--')"
   ]
  },
  {
   "cell_type": "markdown",
   "metadata": {},
   "source": [
    "## Exclusive probabilities"
   ]
  },
  {
   "cell_type": "code",
   "execution_count": 9,
   "metadata": {
    "tags": [
     "hide_input"
    ]
   },
   "outputs": [
    {
     "data": {
      "text/markdown": [
       "![Probability to reconstruct $N^{\\text{reco}}_{b}$ as a function of $N^{\\text{reco}}_{b}$ for four different value of fake rate $f$ for 5 truth $b$-jets and 5 truth lights jets](fig4__jpu_n0.png){width=100% #fig:withfake1}"
      ],
      "text/plain": [
       "<IPython.core.display.Markdown object>"
      ]
     },
     "metadata": {},
     "output_type": "display_data"
    }
   ],
   "source": [
    "njt=5; nbt=5; Njets_tot=range(0,njt+nbt+1)\n",
    "effs=np.linspace(0.5,1.0,6)\n",
    "fakes=np.linspace(0,0.3,4)\n",
    "\n",
    "plt.figure(figsize=(15,12))\n",
    "for i,f in enumerate(fakes): \n",
    "    plt.subplot(2,2,i+1)\n",
    "    for e in effs:\n",
    "        plt.title('$N^{truth}_{b},N^{truth}_{j}='+'{:.0f},{:.0f}$'.format(nbt,njt)\\\n",
    "                  +' and $f={:.1f}$'.format(f))\n",
    "        plt.plot(Njets_tot, [ProbaFull(nbr,nbt,njt,e,f) for nbr in Njets_tot], \\\n",
    "                 label='$\\epsilon = {:.1f}$'.format(e) )\n",
    "    plt.ylim(0,1.0)\n",
    "    plt.xlabel('$N^{reco}_{b}$')\n",
    "    plt.ylabel('$\\mathcal{P}(N^{reco}_{b}\\,|\\,'+'{:.0f},{:.0f}'.format(nbt,njt)+')$')\n",
    "    plt.legend()\n",
    "plt.tight_layout()\n",
    "jpu.plt2md('fig4','Probability to reconstruct $N^{\\\\text{reco}}_{b}$ as a function of $N^{\\\\text{reco}}_{b}$ '+\n",
    "          'for four different value of fake rate $f$ for 5 truth $b$-jets and 5 truth lights jets',\n",
    "           '100%','fig:withfake1')"
   ]
  },
  {
   "cell_type": "code",
   "execution_count": 10,
   "metadata": {
    "tags": [
     "hide_input"
    ]
   },
   "outputs": [
    {
     "data": {
      "text/markdown": [
       "![Probability to reconstruct $N^{\\text{reco}}_{b}$ for $t\\bar{t}t\\bar{t}$ events using typical working points of ATLAS $b$-tagging](fig5__jpu_n0.png){width=70% #fig:withfake2}"
      ],
      "text/plain": [
       "<IPython.core.display.Markdown object>"
      ]
     },
     "metadata": {},
     "output_type": "display_data"
    }
   ],
   "source": [
    "njt=4; nbt=4; Njets_tot=range(0,njt+nbt+1)\n",
    "effs=[0.6,0.70,0.77,0.85]\n",
    "fakes=np.array([183.98,54.72,22.04,8.17])\n",
    "fakes=1/fakes\n",
    "\n",
    "for e,f in zip(effs,fakes):\n",
    "    plt.title('$t\\\\bar{t}t\\\\bar{t} \\\\to 2\\ell+4j+4b$',fontsize=30)\n",
    "    plt.plot(Njets_tot, [ProbaFull(nbr,nbt,njt,e,f) for nbr in Njets_tot], \\\n",
    "                label='$\\epsilon = {:.0f}\\%, f={:.1f}\\%$'.format(e*100,f*100) )\n",
    "    plt.ylim(0,0.5)\n",
    "    plt.xlabel('$N^{reco}_{b}$')\n",
    "    plt.ylabel('$\\mathcal{P}(N^{reco}_{b})$')\n",
    "    plt.legend()\n",
    "plt.tight_layout()\n",
    "jpu.plt2md('fig5','Probability to reconstruct $N^{\\\\text{reco}}_{b}$ for $t\\\\bar{t}t\\\\bar{t}$ events '+\n",
    "          'using typical working points of ATLAS $b$-tagging','70%','fig:withfake2')"
   ]
  },
  {
   "cell_type": "markdown",
   "metadata": {},
   "source": [
    "One particular case of exclusive probabilities is the efficiency of a veto of the number of $b$-jets, particularly important for certain analysis. [@Fig:withfake3] shows how this probability evolves with the $b$-tagging efficiency for different value of the fake rate $f$."
   ]
  },
  {
   "cell_type": "code",
   "execution_count": 11,
   "metadata": {
    "tags": [
     "hide_input"
    ]
   },
   "outputs": [
    {
     "data": {
      "text/markdown": [
       "![Probability to reconstruct exactly 0 $b$-jets as function of the efficiency $\\epsilon$ for different fake rate values](fig6__jpu_n0.png){width=70% #fig:withfake3}"
      ],
      "text/plain": [
       "<IPython.core.display.Markdown object>"
      ]
     },
     "metadata": {},
     "output_type": "display_data"
    }
   ],
   "source": [
    "effs=np.linspace(0.5,1,100)\n",
    "for f in np.linspace(0,0.5,4):\n",
    "    plt.plot(effs, [ProbaFull(0,2,4,e,f) for e in effs], label='$f={:.1f}$'.format(f))\n",
    "plt.title('Veto probability for $N^{truth}_{b},N^{truth}_{j}='+'{:.0f},{:.0f}$'.format(2,4))\n",
    "plt.xlabel('$\\epsilon$')\n",
    "plt.ylabel('$\\mathcal{P}(N^{reco}_{b}=0\\,|\\,2,4)$')\n",
    "plt.legend()\n",
    "plt.tight_layout()\n",
    "jpu.plt2md('fig6','Probability to reconstruct exactly 0 $b$-jets as function of '+\n",
    "           'the efficiency $\\\\epsilon$ for different fake rate values','70%','fig:withfake3')"
   ]
  },
  {
   "cell_type": "markdown",
   "metadata": {},
   "source": [
    "## Inclusive probabilities"
   ]
  },
  {
   "cell_type": "code",
   "execution_count": 12,
   "metadata": {},
   "outputs": [],
   "source": [
    "def InclusiveProbaFull(nbmin,nbt,njt,e,f):\n",
    "    return np.sum( [ProbaFull(nbr,nbt,njt,e,f) for nbr in range(nbmin,nbt+njt+1)] )"
   ]
  },
  {
   "cell_type": "code",
   "execution_count": 13,
   "metadata": {
    "tags": [
     "hide_input"
    ]
   },
   "outputs": [
    {
     "data": {
      "text/markdown": [
       "![Probability to reconstruct at least X $b$-jets as function of X for different fake rate and efficiencies values.](fig7__jpu_n0.png){width=100% #fig:withfake4}"
      ],
      "text/plain": [
       "<IPython.core.display.Markdown object>"
      ]
     },
     "metadata": {},
     "output_type": "display_data"
    }
   ],
   "source": [
    "plt.figure(figsize=(15,12))\n",
    "njt=5; nbt=5; Njets_tot=range(0,njt+nbt+1)\n",
    "effs=np.linspace(0.5,1.0,6)\n",
    "fakes=np.linspace(0,0.3,4)\n",
    "for i,f in enumerate(fakes): \n",
    "    plt.subplot(2,2,i+1)\n",
    "    plt.title('$N^{truth}_{b},N^{truth}_{j}='+'{:.0f},{:.0f}$'.format(nbt,njt)\\\n",
    "                     +' and $f={:.1f}$'.format(f))\n",
    "    for e in effs:\n",
    "        plt.plot(Njets_tot, [InclusiveProbaFull(nbr,nbt,njt,e,f) for nbr in Njets_tot], \\\n",
    "                 label='$\\epsilon = {:0.1f}$'.format(e) )\n",
    "    plt.ylim(0,1.1)\n",
    "    plt.xlabel('$X$')\n",
    "    plt.ylabel('$\\mathcal{P}(N^{reco}_{b}>X\\,|\\,'+'{:.0f},{:.0f}'.format(nbt,njt)+')$')\n",
    "    plt.legend()\n",
    "plt.tight_layout()\n",
    "jpu.plt2md('fig7','Probability to reconstruct at least X $b$-jets as function of '+\n",
    "           'X for different fake rate and efficiencies values.','100%','fig:withfake4')"
   ]
  },
  {
   "cell_type": "markdown",
   "metadata": {},
   "source": [
    "# Correcting of data to MC differences using a jet-based weight\n",
    "\n",
    "## Exact correction\n",
    "\n",
    "Given the formulas described before, applying the **proper weight to each jet** allows to properly correct efficiency and fake rates. This weight changes depending on its true nature (b or light) and its reconstructed  type (b or light). Four combinations are possible:\n",
    "\n",
    "  1. true positive (TP): true b-jet b-tagged $\\to$ receive a factor $\\epsilon_{data}/\\epsilon_{mc}$\n",
    "  2. false positive (FP): true light jet b-tagged $\\to$ receive a factor  $f_{data}/f_{mc}$\n",
    "  3. true negative (TN): true light jet not b-tagged $\\to$ receive a factor  $(1-f_{data})/(1-f_{mc})$\n",
    "  4. false negative (FN): true b-jet not b-tagged $\\to$ receive a factor  $(1-\\epsilon_{data})/(1-\\epsilon_{mc})$\n",
    "\n",
    "In that way, each probability in the MC is mathematically corrected to the one in data. The detail if given for $\\mathcal{P}(N^{truth}_{b}\\to k)$ but works in the same way for $\\mathcal{P}(N^{truth}_{j}\\to \\ell)$.\n",
    "\n",
    "\\begin{eqnarray}\n",
    "\\mathcal{P}^{corr}_{mc}(N^{truth}_{b} \\to k, \\, \\epsilon_{mc},\\epsilon_{data}) &=& \\binom{N^{truth}_{b}}{k} \\times \\epsilon_{mc}^{k} \\times (1-\\epsilon_{mc})^{N^{truth}_{b}-k} \\; \\times \\; \\left(\\frac{\\epsilon_{data}}{\\epsilon_{mc}}\\right)^{k} \\times \\left(\\frac{1-\\epsilon_{data}}{1-\\epsilon_{mc}}\\right)^{N^{truth}_{b}-k} \\\\\n",
    "\\mathcal{P}^{corr}_{mc}(N^{truth}_{b} \\to k, \\, \\epsilon_{mc},\\epsilon_{data}) &=&  \\mathcal{P}_{data}(N^{truth}_{b} \\to k, \\, \\epsilon_{data})\n",
    "\\end{eqnarray}"
   ]
  },
  {
   "cell_type": "code",
   "execution_count": 14,
   "metadata": {},
   "outputs": [],
   "source": [
    "def ProbaFull_corr(nbr,nbt,njt,eMC,fMC,eDATA,fDATA):\n",
    "    kl = [[nbr-i,i] for i in range(0,nbr+1)]\n",
    "    all_proba = [\n",
    "                 proba_heavy_to_heavy(k,nbt,eMC) * (eDATA/eMC)**k * ((1-eDATA)/(1-eMC))**(nbt-k) * \\\n",
    "                 proba_light_to_heavy(l,njt,fMC) * (fDATA/fMC)**l * ((1-fDATA)/(1-fMC))**(njt-l)\\\n",
    "                 for [k,l] in kl\\\n",
    "                ]\n",
    "    return np.sum(all_proba)\n",
    "\n",
    "def InclusiveProbaFull_corr(nbmin,nbt,njt,eMC,fMC,eDATA,fDATA):\n",
    "    return np.sum( [ProbaFull_corr(nbr,nbt,njt,eMC,fMC,eDATA,fDATA) \n",
    "                    for nbr in range(nbmin,nbt+njt+1)] )"
   ]
  },
  {
   "cell_type": "markdown",
   "metadata": {},
   "source": [
    "## Efficiency ratio are not enough: absolute efficiencies matter too\n",
    "\n",
    "Usually, we often think on correcting the efficiencies with a scale factor $SF = \\epsilon_{data}/\\epsilon_{mc}$ which might let think that corrections is independant from absolute efficiences values but only depend on the ratio. This is however not true because of the inefficiency correction. To illustrate this, let's assume that the efficiency is scaled by a factor $k$ **in both data and simulation, letting $SF$ constant**. How such a change will affect the various probabilities? This is looked at in the example of semi-leptonic decay of $t\\bar{t}+2j$."
   ]
  },
  {
   "cell_type": "code",
   "execution_count": 15,
   "metadata": {
    "tags": [
     "hide_input"
    ]
   },
   "outputs": [
    {
     "data": {
      "text/markdown": [
       "![Evolution of the corrected probability when the efficiency is scaled by a factor $k$.](fig8__jpu_n0.png){width=70% #fig:SF1}"
      ],
      "text/plain": [
       "<IPython.core.display.Markdown object>"
      ]
     },
     "metadata": {},
     "output_type": "display_data"
    }
   ],
   "source": [
    "njt=4; nbt=2; Njets_tot=range(0,njt+nbt+1)\n",
    "eDATA=0.77; eMC=0.82\n",
    "fDATA=0.15; fMC=0.15\n",
    "k_eff = np.linspace(0.5,1.05,100)\n",
    "\n",
    "for nbj in Njets_tot:\n",
    "    ratio_proba = [\\\n",
    "                   ProbaFull_corr(nbj,nbt,njt,k*eMC,fMC,k*eDATA,fDATA)/\\\n",
    "                   ProbaFull_corr(nbj,nbt,njt,eMC,fMC,eDATA,fDATA)\\\n",
    "                   for k in k_eff\\\n",
    "                  ]\n",
    "    plt.plot(k_eff,ratio_proba, label='$N^{reco}_{b}='+'{:.0f}$'.format(nbj))\n",
    "\n",
    "ratioIncl_proba = [\\\n",
    "                   InclusiveProbaFull_corr(0,nbt,njt,k*eMC,fMC,k*eDATA,fDATA)/\\\n",
    "                   InclusiveProbaFull_corr(0,nbt,njt,eMC,fMC,eDATA,fDATA)\\\n",
    "                   for k in k_eff\\\n",
    "                  ]\n",
    "plt.plot(k_eff,ratioIncl_proba,'--',color='black', alpha=0.8,label='$N^{reco}_{b}\\geq 0$')\n",
    "plt.xlabel('k')\n",
    "plt.ylabel('$\\mathcal{P}^{\\;corr}(k)\\,/\\,\\mathcal{P}^{\\;corr}$')\n",
    "plt.legend()\n",
    "jpu.plt2md('fig8','Evolution of the corrected probability when the efficiency is scaled by a factor $k$.',\n",
    "          '70%','fig:SF1')"
   ]
  },
  {
   "cell_type": "markdown",
   "metadata": {
    "collapsed": true
   },
   "source": [
    "What we see in [@Fig:SF1] is actually easy to interpret: for low $k$ values, the absolute effiency is low and it's more likely to observe no b-tagged jets. And in the current case, the correction is still applied properly since the correct efficiencies are used to correct simulation effiencies.\n",
    "\n",
    "\n",
    "Now the question is: **what happens if the simulated efficiencies in the control region (CR) are different from the one in the signal region (SR)?** This would mean that the correction to apply is not consistent and a closure test can be performed to probe this inconsitency. In practice, we assume three types of efficiencies: $\\epsilon_{MC,CR}$, $\\epsilon_{DATA}$ and $\\epsilon_{MC,SR}$. The corrections are computed using $\\epsilon_{MC,CR}$ and $\\epsilon_{DATA}$ while they are applied in the SR where simulated efficiency is $\\epsilon_{MC,SR}$."
   ]
  },
  {
   "cell_type": "code",
   "execution_count": 16,
   "metadata": {
    "tags": [
     "hide",
     "hide_input"
    ]
   },
   "outputs": [],
   "source": [
    "def ProbaFull_corr_SF(nbr,nbt,njt,eMC,fMC,eSF,eSFbar,fSF,fSFbar):\n",
    "    kl = [[nbr-i,i] for i in range(0,nbr+1)]\n",
    "    all_proba = [\\\n",
    "                 proba_heavy_to_heavy(k,nbt,eMC) * eSF**k * eSFbar**(nbt-k) * \\\n",
    "                 proba_light_to_heavy(l,njt,fMC) * fSF**l * fSFbar**(njt-l)\\\n",
    "                 for [k,l] in kl\\\n",
    "                ]\n",
    "    return np.sum(all_proba)\n",
    "\n",
    "def InclusiveProbaFull_corr_SF(nbmin,nbt,njt,eMC,fMC,eSF,eSFbar,fSF,fSFbar):\n",
    "    return np.sum( [ProbaFull_corr_SF(nbr,nbt,njt,eMC,fMC,eSF,eSFbar,fSF,fSFbar)\\\n",
    "                    for nbr in range(nbmin,nbt+njt+1)] )"
   ]
  },
  {
   "cell_type": "code",
   "execution_count": 17,
   "metadata": {
    "tags": [
     "hide_input"
    ]
   },
   "outputs": [
    {
     "data": {
      "text/markdown": [
       "![Ratio of corrected probability with the incorrect SF with the one corrected with the correct SF as a function of the SF ratio, for different numbers of reconstructed $b$-jets.](fig9__jpu_n0.png){width=70% #fig:SF2}"
      ],
      "text/plain": [
       "<IPython.core.display.Markdown object>"
      ]
     },
     "metadata": {},
     "output_type": "display_data"
    }
   ],
   "source": [
    "njt=4; nbt=2; Njets_tot=range(0,njt+nbt+1)\n",
    "eDATA=0.77; eMC=0.82\n",
    "fDATA=0.15; fMC=0.15; fSF=fDATA/fMC; fSFbar=(1-fDATA)/(1-fMC)\n",
    "eMC_SR = np.linspace(eMC*0.9,eMC*1.1,50)\n",
    "\n",
    "for nbj in Njets_tot:\n",
    "    ratio_proba = [\\\n",
    "                   ProbaFull_corr_SF(nbj,nbt,njt,eSR,fMC,eDATA/eMC,(1-eDATA)/(1-eMC),fSF,fSFbar)/\\\n",
    "                   ProbaFull_corr_SF(nbj,nbt,njt,eSR,fMC,eDATA/eSR,(1-eDATA)/(1-eSR),fSF,fSFbar)\\\n",
    "                   for eSR in eMC_SR\\\n",
    "                  ]\n",
    "    plt.plot(eMC_SR/eMC,ratio_proba, label='$N^{reco}_{b}='+'{:.0f}$'.format(nbj))\n",
    "\n",
    "ratioIncl_proba = [\\\n",
    "                   InclusiveProbaFull_corr_SF(0,nbt,njt,eSR,fMC,eDATA/eMC,(1-eDATA)/(1-eMC),fSF,fSFbar)/\\\n",
    "                   InclusiveProbaFull_corr_SF(0,nbt,njt,eSR,fMC,eDATA/eSR,(1-eDATA)/(1-eSR),fSF,fSFbar)\\\n",
    "                   for eSR in eMC_SR\\\n",
    "                  ]\n",
    "plt.plot(eMC_SR/eMC,ratioIncl_proba,'--',color='black', alpha=0.8,label='$N^{reco}_{b}\\geq 0$')\n",
    "plt.xlabel('$\\epsilon_{MC,SR}/\\epsilon_{MC,CR}$ (correction computed with $\\epsilon_{MC,CR}$)',fontsize=20)\n",
    "plt.ylabel('$\\mathcal{P}_{corr}\\,(\\,\\epsilon_{SR} \\\\neq \\epsilon_{CR}\\,) \\;/\\;'+\\\n",
    "           '\\mathcal{P}_{corr}\\,(\\,\\epsilon_{SR}=\\epsilon_{CR}\\,)$',fontsize=20)\n",
    "plt.xlim(0.9,1.2)\n",
    "plt.ylim(0.0,2.0)\n",
    "plt.legend()\n",
    "plt.tight_layout()\n",
    "jpu.plt2md('fig9','Ratio of corrected probability with the incorrect SF with the one corrected with '+\n",
    "          'the correct SF as a function of the SF ratio, for different numbers of reconstructed '+\n",
    "          '$b$-jets.','70%','fig:SF2')"
   ]
  },
  {
   "cell_type": "markdown",
   "metadata": {},
   "source": [
    "[@Fig:SF2] shows how the sum of the probability $\\mathcal{P}(N^{reco}_{b} \\geq 0)$ deviates from 1.0 when $\\epsilon_{MC,SR}$ deviates from $\\epsilon_{MC,CR}$ (assuming the fake rate SF are the same in both regions). Also, each exclusive probability deviation is shown and the 0-tag probability is has the largest effect ($5\\%$ efficiency variation leads to $\\sim 50\\%$ probability variation). [@Fig:SF3] shows the same information but as a function of a only accessible quantity, namely the CR-corrected probability."
   ]
  },
  {
   "cell_type": "code",
   "execution_count": 18,
   "metadata": {
    "scrolled": false,
    "tags": [
     "hide_input"
    ]
   },
   "outputs": [
    {
     "data": {
      "text/markdown": [
       "![Ratio of corrected probability with the incorrect SF with the one corrected with the correct SF as a function wrongly-corrected probability (accessible experimentally),for different numbers of reconstructed $b$-jets.](fig10__jpu_n0.png){width=70% #fig:SF3}"
      ],
      "text/plain": [
       "<IPython.core.display.Markdown object>"
      ]
     },
     "metadata": {},
     "output_type": "display_data"
    }
   ],
   "source": [
    "from matplotlib import cm\n",
    "\n",
    "njt=4; nbt=2; Njets_tot=range(0,njt+nbt+1)\n",
    "eDATA=0.77; eMC=0.82\n",
    "fDATA=0.15; fMC=0.15; fSF=fDATA/fMC; fSFbar=(1-fDATA)/(1-fMC)\n",
    "eMC_SR = np.linspace(eMC*0.5,eMC*1.5,400)\n",
    "\n",
    "def rIncl(esr):\n",
    "    return InclusiveProbaFull_corr_SF(0,nbt,njt,eSR,fMC,eDATA/eMC,(1-eDATA)/(1-eMC),fSF,fSFbar)#/\\\n",
    "           #InclusiveProbaFull_corr_SF(0,nbt,njt,eSR,fMC,eDATA/eSR,(1-eDATA)/(1-eSR),fSF,fSFbar)\n",
    "\n",
    "def rNtag(esr,N):\n",
    "    return ProbaFull_corr_SF(N,nbt,njt,esr,fMC,eDATA/eMC,(1-eDATA)/(1-eMC),fSF,fSFbar)/\\\n",
    "           ProbaFull_corr_SF(N,nbt,njt,esr,fMC,eDATA/esr,(1-eDATA)/(1-esr),fSF,fSFbar)\n",
    "\n",
    "for N in Njets_tot:\n",
    "    ratio_Ntag = [rNtag(eSR,N) for eSR in eMC_SR]\n",
    "    ratio_Incl = [rIncl(eSR)   for eSR in eMC_SR]\n",
    "    plt.scatter(ratio_Incl,ratio_Ntag,label='$N^{reco}_{b} ='+'{:.0f}$'.format(N),s=25*eMC_SR**5 )\n",
    "\n",
    "plt.xlim(0.45,1.3)\n",
    "plt.ylim(-2,5)\n",
    "plt.ylabel('Exclusive Probability Ratio',fontsize=20)\n",
    "plt.xlabel('$\\mathcal{P}_{corr}\\,(\\,\\epsilon_{SR} \\\\neq \\epsilon_{CR}\\, , \\, N^{reco}_{b} \\geq 0\\,)$',fontsize=25)\n",
    "plt.text(0.50,4.3,'$\\epsilon_{SR}/\\epsilon_{CR} \\in [0.5,1.5]$',fontsize=23)\n",
    "plt.text(0.52,3.8,'$\\\\to$ marker size',fontsize=17)\n",
    "plt.legend(loc=3)\n",
    "jpu.plt2md('fig10','Ratio of corrected probability with the incorrect SF with the one corrected with '+\n",
    "          'the correct SF as a function wrongly-corrected probability (accessible experimentally),'+\n",
    "           'for different numbers of reconstructed $b$-jets.','70%','fig:SF3')"
   ]
  },
  {
   "cell_type": "code",
   "execution_count": 20,
   "metadata": {
    "tags": [
     "hide"
    ]
   },
   "outputs": [
    {
     "name": "stdout",
     "output_type": "stream",
     "text": [
      "JetCombinatorics_pdf.md is created\n",
      "JetCombinatorics_png.md is created\n"
     ]
    },
    {
     "name": "stderr",
     "output_type": "stream",
     "text": [
      "[NbConvertApp] Converting notebook JetCombinatorics.ipynb to markdown\n",
      "[NbConvertApp] Support files will be in JetCombinatorics_files/\n",
      "[NbConvertApp] Making directory JetCombinatorics_files\n",
      "[NbConvertApp] Writing 11933 bytes to JetCombinatorics.md\n",
      "[NbConvertApp] Converting notebook JetCombinatorics.ipynb to markdown\n",
      "[NbConvertApp] Support files will be in JetCombinatorics_files/\n",
      "[NbConvertApp] Making directory JetCombinatorics_files\n",
      "[NbConvertApp] Writing 11933 bytes to JetCombinatorics.md\n"
     ]
    }
   ],
   "source": [
    "jpu.clean_notebook('JetCombinatorics.ipynb')\n",
    "jpu.nb2md('JetCombinatorics.ipynb',png2pdf=True)\n",
    "jpu.nb2md('JetCombinatorics.ipynb',png2pdf=False)"
   ]
  },
  {
   "cell_type": "code",
   "execution_count": null,
   "metadata": {
    "collapsed": true
   },
   "outputs": [],
   "source": []
  }
 ],
 "metadata": {
  "celltoolbar": "Tags",
  "kernelspec": {
   "display_name": "Python 2",
   "language": "python",
   "name": "python2"
  },
  "language_info": {
   "codemirror_mode": {
    "name": "ipython",
    "version": 2
   },
   "file_extension": ".py",
   "mimetype": "text/x-python",
   "name": "python",
   "nbconvert_exporter": "python",
   "pygments_lexer": "ipython2",
   "version": "2.7.15rc1"
  }
 },
 "nbformat": 4,
 "nbformat_minor": 2
}
